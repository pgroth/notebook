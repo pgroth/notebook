{
 "metadata": {
  "name": "",
  "signature": "sha256:d8a9c65c1d0320748847884da8454ec88b8a33eb336299edf89662ce7edec668"
 },
 "nbformat": 3,
 "nbformat_minor": 0,
 "worksheets": [
  {
   "cells": [
    {
     "cell_type": "markdown",
     "metadata": {},
     "source": [
      "#Newsreader Universities\n",
      "* Author: Paul Groth\n",
      "* Date: January 21, 2015\n",
      "* Where: [Newsreader Amsterdam Hackathon](http://www.newsreader-project.eu/hackathon/)\n",
      "\n",
      "The goal of this ipython notebook is to play around with the [NewsReader project's](http://www.newsreader-project.eu) API to see what information we can find about universities in the news.\n",
      "\n",
      "We use the [NewsReader Simple API](https://newsreader.scraperwiki.com) to interact with data extracted from the Lexis Nexis corpus of news.\n"
     ]
    },
    {
     "cell_type": "markdown",
     "metadata": {},
     "source": [
      "## Some setup"
     ]
    },
    {
     "cell_type": "code",
     "collapsed": false,
     "input": [
      "import json\n",
      "import urllib2\n",
      "import urllib\n",
      "from IPython.display import display"
     ],
     "language": "python",
     "metadata": {},
     "outputs": [],
     "prompt_number": 2
    },
    {
     "cell_type": "markdown",
     "metadata": {},
     "source": [
      "## Are there scientists in the data?\n",
      "* Remember to add &output=json to grab the data back"
     ]
    },
    {
     "cell_type": "code",
     "collapsed": false,
     "input": [
      "request_str = 'https://newsreader.scraperwiki.com/types_of_actors?filter=scientist&output=json'\n",
      "res = json.load(urllib2.urlopen(request_str))\n",
      "print res"
     ],
     "language": "python",
     "metadata": {},
     "outputs": [
      {
       "output_type": "stream",
       "stream": "stdout",
       "text": [
        "{u'count': 1, u'next page': u'https://newsreader.scraperwiki.com/cars/types_of_actors/page/2?output=json&filter=scientist', u'payload': [{u'count': u'2457', u'type': u'http://dbpedia.org/ontology/Scientist'}], u'page number': 1}\n"
       ]
      }
     ],
     "prompt_number": 3
    },
    {
     "cell_type": "markdown",
     "metadata": {},
     "source": [
      "# List of all the universities in the system\n",
      "* note we only grab the first 20 so we don't have to loop through the data\n",
      "* contains a dbpedia url, a comment, and the number of events in the news the university was found in"
     ]
    },
    {
     "cell_type": "code",
     "collapsed": false,
     "input": [
      "#request_str = \"https://newsreader.scraperwiki.com/summary_of_events_with_actor_type?datefilter=2010-01&uris.0=dbo:University&output=json\"\n",
      "#request_str = \"https://newsreader.scraperwiki.com/summary_of_events_with_event_label?filter=acquisition&datefilter=2010&output=json\"\n",
      "request_str = \"https://newsreader.scraperwiki.com/actors_of_a_type?uris.0=dbo:University&filter=university\"\n",
      "res = json.load(urllib2.urlopen(request_str+\"&output=json\"))\n",
      "\n",
      "print res"
     ],
     "language": "python",
     "metadata": {},
     "outputs": [
      {
       "output_type": "stream",
       "stream": "stdout",
       "text": [
        "{u'count': 2469, u'next page': u'https://newsreader.scraperwiki.com/cars/actors_of_a_type/page/2?filter=university&output=json&uris.0=dbo%3AUniversity', u'payload': [{u'comment': u'The Texas Tech University System is a state university system in Texas consisting of four separate universities in the state of Texas, of which two are academic institutions: Angelo State University and Texas Tech University, and two are health institutions: Texas Tech University Health Sciences Center, and Texas Tech University Health Sciences Center El Paso Campus. The System is headquartered in the Administration Building on the Texas Tech University campus in Lubbock, Texas.', u'count': u'1025', u'actor': u'http://dbpedia.org/resource/Texas_Tech_University_System'}, {u'comment': u\"The University of Michigan (UM, U-M, UMich, or U of M), frequently referred to as simply Michigan, is a public research university located in Ann Arbor, Michigan, United States. It is the state's oldest university and has two satellite campuses located in Flint and Dearborn. The university was founded in 1817 in Detroit as the Catholepistemiad, or University of Michigania, about 20 years before the Michigan Territory officially became a state.\", u'count': u'1000', u'actor': u'http://dbpedia.org/resource/University_of_Michigan'}, {u'comment': u'Leland Stanford Junior University, commonly referred to as Stanford University, is a private research university in Stanford, California in northwestern Silicon Valley near Palo Alto. Its academic reputation, eminent alumni, influence, and wealth have made it one of the most prestigious universities in the world.The university was founded in 1885 by Leland Stanford, former governor of and U.S.', u'count': u'607', u'actor': u'http://dbpedia.org/resource/Stanford_University'}, {u'comment': u'Michigan State University (MSU) is a public research university located in East Lansing, Michigan, United States and is the first land-grant institution that was created to serve as a model for future land-grant colleges in the country under the 1862 Morrill Act.MSU pioneered the studies of packaging, hospitality business, supply chain management, and telecommunication.', u'count': u'571', u'actor': u'http://dbpedia.org/resource/Michigan_State_University'}, {u'comment': u'The Pennsylvania State University (commonly referred to as Penn State or PSU) is a public, state-related research university with campuses and facilities throughout Pennsylvania. Founded in 1855, the university has a stated threefold mission of teaching, research, and public service. Its instructional mission includes undergraduate, graduate, professional and continuing education offered through resident instruction and online delivery.', u'count': u'554', u'actor': u'http://dbpedia.org/resource/Pennsylvania_State_University'}, {u'comment': u\"Harvard University is a private Ivy League research university in Cambridge, Massachusetts, whose history, influence and wealth have made it one of the most prestigious universities in the world.Established in 1636 by the Massachusetts legislature and soon thereafter named for John Harvard (its first benefactor), Harvard is the United States' oldest institution of higher learning, and the Harvard Corporation (formally, the President and Fellows of Harvard College) is its first chartered corporation. \", u'count': u'507', u'actor': u'http://dbpedia.org/resource/Harvard_University'}, {u'comment': u'Auburn University (AU or Auburn) is a public university located in Auburn, Alabama, United States. With more than 20,000 undergraduate students, and a total of over 25,000 students and 1,200 faculty members, it is one of the largest universities in the state. Auburn was chartered on February 7, 1856, as the East Alabama Male College, a private liberal arts school affiliated with the Methodist Episcopal Church, South.', u'count': u'490', u'actor': u'http://dbpedia.org/resource/Auburn_University'}, {u'comment': u\"The University of Southern California (known as USC or SC) is a private, not-for-profit, nonsectarian, research university founded in 1880 with its main campus in Los Angeles, California. As California's oldest private research university, USC has historically educated a large number of the region's business leaders and professionals.\", u'count': u'451', u'actor': u'http://dbpedia.org/resource/University_of_Southern_California'}, {u'comment': u'Purdue University, located in West Lafayette, Indiana, is the flagship university of the six-campus Purdue University system. Purdue was founded on May 6, 1869, as a land-grant university when the Indiana General Assembly, taking advantage of the Morrill Act, accepted a donation of land and money from Lafayette businessman John Purdue to establish a college of science, technology, and agriculture in his name.', u'count': u'441', u'actor': u'http://dbpedia.org/resource/Purdue_University'}, {u'comment': u\"The University of Nebraska\\u2013Lincoln (commonly referred to as Nebraska, UNL or NU) is a public research university located in Lincoln, Nebraska, United States. It is the state's oldest and largest university and the flagship university of the University of Nebraska system.The university was chartered by the legislature in 1869 as a land-grant university under the 1862 Morrill Act, two years after Nebraska's statehood into the United States.\", u'count': u'419', u'actor': u'http://dbpedia.org/resource/University_of_Nebraska\\u2013Lincoln'}, {u'comment': u'The University of Tennessee (also referred to as the University of Tennessee, Knoxville, UT Knoxville, UTK, or UT) is a public sun-grant and land-grant university headquartered at Knoxville, Tennessee, United States.', u'count': u'415', u'actor': u'http://dbpedia.org/resource/University_of_Tennessee'}, {u'comment': u\"Virginia Polytechnic Institute and State University, popularly known as Virginia Tech, is a public land-grant university with a main campus in Blacksburg, Virginia, educational facilities in six regions statewide, and a study-abroad site in Switzerland. The commonwealth's most comprehensive university and leading research institution, Virginia Tech offers 225 undergraduate and graduate degree programs to some 31,000 students and manages a research portfolio of $454 million.\", u'count': u'414', u'actor': u'http://dbpedia.org/resource/Virginia_Tech'}, {u'comment': u'Arizona State University (commonly referred to as ASU or Arizona State) is a national space-grant institution and public metropolitan research university located on several campuses spread across the Phoenix, Arizona Metropolitan Area. It is the largest public university in the United States by enrollment. Founded in 1885 as The Arizona Territorial Normal School at Tempe, the school came under control of the Arizona Board of Regents in 1945 and was renamed Arizona State College.', u'count': u'406', u'actor': u'http://dbpedia.org/resource/Arizona_State_University'}, {u'comment': u'The University of Lincoln is a public university in the city of Lincoln, England. The university has origins tracing back to 1861, and after gaining university status in 1992, was known as the University of Humberside until 1996 and the University of Lincolnshire and Humberside until 2001, when it adopted its present name.Lincoln is one of two universities in the city, alongside Bishop Grosseteste University.', u'count': u'400', u'actor': u'http://dbpedia.org/resource/University_of_Lincoln'}, {u'comment': u'The University of North Carolina at Chapel Hill (also known as UNC, UNC-Chapel Hill, Chapel Hill, North Carolina, or simply Carolina) is a coeducational public research university located in Chapel Hill, North Carolina, United States. North Carolina has been consistently ranked among the highest ranked universities in the United States and is one of the original eight Public Ivy schools that provide an Ivy League experience for a public schooling price.', u'count': u'397', u'actor': u'http://dbpedia.org/resource/University_of_North_Carolina_at_Chapel_Hill'}, {u'comment': u'Louisiana State University and Agricultural and Mechanical College (most often referred to as Louisiana State University or LSU) is a public coeducational university located in Baton Rouge, Louisiana. The University was founded in 1853 in what is now known as Pineville, Louisiana, under the name Louisiana State Seminary of Learning & Military Academy.', u'count': u'387', u'actor': u'http://dbpedia.org/resource/Louisiana_State_University'}, {u'comment': u'The University of California (UC) is a public university system in the U.S. state of California.', u'count': u'382', u'actor': u'http://dbpedia.org/resource/University_of_California'}, {u'comment': u'New Mexico State University at Las Cruces (officially New Mexico State University, although also commonly referred to as NMSU-Las Cruces, NMSU, or NM State), is a major land-grant university in Las Cruces, New Mexico, United States.', u'count': u'381', u'actor': u'http://dbpedia.org/resource/New_Mexico_State_University'}, {u'comment': u'Clemson University /\\u02c8kl\\u025bms\\u0259n/ is an American public, coeducational, land-grant and sea-grant research university located in Clemson, South Carolina, United States.Founded in 1889, Clemson University consists of five colleges: Agriculture, Forestry and Life Sciences; Architecture, Arts and Humanities; Business and Behavioral Sciences; Engineering and Science; and Health, Education and Human Development.', u'count': u'381', u'actor': u'http://dbpedia.org/resource/Clemson_University'}, {u'comment': u'The Ohio State University, commonly referred to as Ohio State or OSU, is a public research university in Columbus, Ohio. Founded in 1870, as a land-grant university and ninth university in Ohio with the Morrill Act of 1862, the university was originally known as the Ohio Agricultural and Mechanical College.', u'count': u'375', u'actor': u'http://dbpedia.org/resource/Ohio_State_University'}], u'page number': 1}\n"
       ]
      }
     ],
     "prompt_number": 27
    },
    {
     "cell_type": "markdown",
     "metadata": {},
     "source": [
      "# Plot!\n",
      "* Here we plot the number of events in which the unviersities occured in. "
     ]
    },
    {
     "cell_type": "code",
     "collapsed": false,
     "input": [
      "import pandas as pd\n",
      "import numpy as np\n",
      "import matplotlib.pyplot as plt"
     ],
     "language": "python",
     "metadata": {},
     "outputs": [],
     "prompt_number": 28
    },
    {
     "cell_type": "code",
     "collapsed": false,
     "input": [
      "uniToCount = {\"uni\": [],\n",
      "              \"count\": []}\n",
      "payload = res['payload']\n",
      "\n",
      "\n",
      "print uniToCount\n",
      "for p in payload:\n",
      "    actor = p['actor'][28:]\n",
      "    count = p['count']\n",
      "    uniToCount[\"uni\"].append(actor)\n",
      "    uniToCount[\"count\"].append(int(count))\n",
      "    \n",
      "df = pd.DataFrame(uniToCount)\n",
      "print df\n",
      "\n",
      "\n",
      "\n",
      "df.plot(kind='barh',x='uni', title=\"Number of Events in the News\")\n",
      "\n"
     ],
     "language": "python",
     "metadata": {},
     "outputs": [
      {
       "output_type": "stream",
       "stream": "stdout",
       "text": [
        "{'count': [], 'uni': []}\n",
        "    count                                          uni\n",
        "0    1025                 Texas_Tech_University_System\n",
        "1    1000                       University_of_Michigan\n",
        "2     607                          Stanford_University\n",
        "3     571                    Michigan_State_University\n",
        "4     554                Pennsylvania_State_University\n",
        "5     507                           Harvard_University\n",
        "6     490                            Auburn_University\n",
        "7     451            University_of_Southern_California\n",
        "8     441                            Purdue_University\n",
        "9     419               University_of_Nebraska\u2013Lincoln\n",
        "10    415                      University_of_Tennessee\n",
        "11    414                                Virginia_Tech\n",
        "12    406                     Arizona_State_University\n",
        "13    400                        University_of_Lincoln\n",
        "14    397  University_of_North_Carolina_at_Chapel_Hill\n",
        "15    387                   Louisiana_State_University\n",
        "16    382                     University_of_California\n",
        "17    381                  New_Mexico_State_University\n",
        "18    381                           Clemson_University\n",
        "19    375                        Ohio_State_University\n"
       ]
      },
      {
       "metadata": {},
       "output_type": "pyout",
       "prompt_number": 29,
       "text": [
        "<matplotlib.axes._subplots.AxesSubplot at 0x107d2e8d0>"
       ]
      },
      {
       "metadata": {},
       "output_type": "display_data",
       "png": "[encoded data removed]",
       "text": [
        "<matplotlib.figure.Figure at 0x107b25650>"
       ]
      }
     ],
     "prompt_number": 29
    },
    {
     "cell_type": "markdown",
     "metadata": {},
     "source": [
      "# Retrieve what kinds of events the universities are involved in\n",
      "* Uses the event_details_filtered_by_actor api\n",
      "* Note they include a handy __next page__ field in the json results for looping through results\n"
     ]
    },
    {
     "cell_type": "code",
     "collapsed": false,
     "input": [
      "from collections import defaultdict\n",
      "#str = 'https://newsreader.scraperwiki.com/event_details_filtered_by_actor?uris.0=' + actor + '&output=json'\n",
      "\n",
      "actorToLabels = {}\n",
      "for p in payload:\n",
      "    print \"start\"\n",
      "    labels = defaultdict()\n",
      "    actor = p['actor']\n",
      "    print actor\n",
      "    url = 'https://newsreader.scraperwiki.com/summary_of_events_with_actor?uris.0=' + actor + '&output=json'\n",
      "    while url:\n",
      "        res = json.load(urllib2.urlopen(url))\n",
      "        #print res\n",
      "        if 'next page' in res:\n",
      "            url = res['next page']\n",
      "        else:\n",
      "            break\n",
      "            \n",
      "        for r in res['payload']:\n",
      "            if r['event_label'] in labels:\n",
      "                labels[r['event_label']] += 1\n",
      "            else:\n",
      "                labels[r['event_label']] = 1\n",
      "    \n",
      "        print url\n",
      "        actorToLabels[actor] = labels\n",
      "\n",
      "    \n",
      "    "
     ],
     "language": "python",
     "metadata": {},
     "outputs": [
      {
       "output_type": "stream",
       "stream": "stdout",
       "text": [
        "start\n",
        "http://dbpedia.org/resource/Texas_Tech_University_System\n",
        "https://newsreader.scraperwiki.com/cars/summary_of_events_with_actor/page/2?output=json&uris.0=http%3A%2F%2Fdbpedia.org%2Fresource%2FTexas_Tech_University_System"
       ]
      },
      {
       "output_type": "stream",
       "stream": "stdout",
       "text": [
        "\n",
        "https://newsreader.scraperwiki.com/cars/summary_of_events_with_actor/page/3?uris.0=http%3A%2F%2Fdbpedia.org%2Fresource%2FTexas_Tech_University_System&output=json"
       ]
      },
      {
       "output_type": "stream",
       "stream": "stdout",
       "text": [
        "\n",
        "https://newsreader.scraperwiki.com/cars/summary_of_events_with_actor/page/4?output=json&uris.0=http%3A%2F%2Fdbpedia.org%2Fresource%2FTexas_Tech_University_System"
       ]
      },
      {
       "output_type": "stream",
       "stream": "stdout",
       "text": [
        "\n",
        "https://newsreader.scraperwiki.com/cars/summary_of_events_with_actor/page/5?uris.0=http%3A%2F%2Fdbpedia.org%2Fresource%2FTexas_Tech_University_System&output=json"
       ]
      },
      {
       "output_type": "stream",
       "stream": "stdout",
       "text": [
        "\n",
        "https://newsreader.scraperwiki.com/cars/summary_of_events_with_actor/page/6?output=json&uris.0=http%3A%2F%2Fdbpedia.org%2Fresource%2FTexas_Tech_University_System"
       ]
      },
      {
       "output_type": "stream",
       "stream": "stdout",
       "text": [
        "\n",
        "https://newsreader.scraperwiki.com/cars/summary_of_events_with_actor/page/7?uris.0=http%3A%2F%2Fdbpedia.org%2Fresource%2FTexas_Tech_University_System&output=json"
       ]
      },
      {
       "output_type": "stream",
       "stream": "stdout",
       "text": [
        "\n",
        "https://newsreader.scraperwiki.com/cars/summary_of_events_with_actor/page/8?output=json&uris.0=http%3A%2F%2Fdbpedia.org%2Fresource%2FTexas_Tech_University_System"
       ]
      },
      {
       "output_type": "stream",
       "stream": "stdout",
       "text": [
        "\n",
        "https://newsreader.scraperwiki.com/cars/summary_of_events_with_actor/page/9?uris.0=http%3A%2F%2Fdbpedia.org%2Fresource%2FTexas_Tech_University_System&output=json"
       ]
      },
      {
       "output_type": "stream",
       "stream": "stdout",
       "text": [
        "\n",
        "https://newsreader.scraperwiki.com/cars/summary_of_events_with_actor/page/10?output=json&uris.0=http%3A%2F%2Fdbpedia.org%2Fresource%2FTexas_Tech_University_System"
       ]
      },
      {
       "output_type": "stream",
       "stream": "stdout",
       "text": [
        "\n",
        "https://newsreader.scraperwiki.com/cars/summary_of_events_with_actor/page/11?uris.0=http%3A%2F%2Fdbpedia.org%2Fresource%2FTexas_Tech_University_System&output=json"
       ]
      },
      {
       "output_type": "stream",
       "stream": "stdout",
       "text": [
        "\n",
        "https://newsreader.scraperwiki.com/cars/summary_of_events_with_actor/page/12?output=json&uris.0=http%3A%2F%2Fdbpedia.org%2Fresource%2FTexas_Tech_University_System"
       ]
      },
      {
       "output_type": "stream",
       "stream": "stdout",
       "text": [
        "\n",
        "https://newsreader.scraperwiki.com/cars/summary_of_events_with_actor/page/13?uris.0=http%3A%2F%2Fdbpedia.org%2Fresource%2FTexas_Tech_University_System&output=json"
       ]
      },
      {
       "output_type": "stream",
       "stream": "stdout",
       "text": [
        "\n",
        "https://newsreader.scraperwiki.com/cars/summary_of_events_with_actor/page/14?output=json&uris.0=http%3A%2F%2Fdbpedia.org%2Fresource%2FTexas_Tech_University_System"
       ]
      },
      {
       "output_type": "stream",
       "stream": "stdout",
       "text": [
        "\n",
        "https://newsreader.scraperwiki.com/cars/summary_of_events_with_actor/page/15?uris.0=http%3A%2F%2Fdbpedia.org%2Fresource%2FTexas_Tech_University_System&output=json"
       ]
      },
      {
       "output_type": "stream",
       "stream": "stdout",
       "text": [
        "\n",
        "https://newsreader.scraperwiki.com/cars/summary_of_events_with_actor/page/16?output=json&uris.0=http%3A%2F%2Fdbpedia.org%2Fresource%2FTexas_Tech_University_System"
       ]
      },
      {
       "output_type": "stream",
       "stream": "stdout",
       "text": [
        "\n",
        "https://newsreader.scraperwiki.com/cars/summary_of_events_with_actor/page/17?uris.0=http%3A%2F%2Fdbpedia.org%2Fresource%2FTexas_Tech_University_System&output=json"
       ]
      },
      {
       "output_type": "stream",
       "stream": "stdout",
       "text": [
        "\n",
        "https://newsreader.scraperwiki.com/cars/summary_of_events_with_actor/page/18?output=json&uris.0=http%3A%2F%2Fdbpedia.org%2Fresource%2FTexas_Tech_University_System"
       ]
      },
      {
       "output_type": "stream",
       "stream": "stdout",
       "text": [
        "\n",
        "https://newsreader.scraperwiki.com/cars/summary_of_events_with_actor/page/19?uris.0=http%3A%2F%2Fdbpedia.org%2Fresource%2FTexas_Tech_University_System&output=json"
       ]
      },
      {
       "output_type": "stream",
       "stream": "stdout",
       "text": [
        "\n",
        "https://newsreader.scraperwiki.com/cars/summary_of_events_with_actor/page/20?output=json&uris.0=http%3A%2F%2Fdbpedia.org%2Fresource%2FTexas_Tech_University_System"
       ]
      },
      {
       "output_type": "stream",
       "stream": "stdout",
       "text": [
        "\n",
        "https://newsreader.scraperwiki.com/cars/summary_of_events_with_actor/page/21?uris.0=http%3A%2F%2Fdbpedia.org%2Fresource%2FTexas_Tech_University_System&output=json"
       ]
      },
      {
       "output_type": "stream",
       "stream": "stdout",
       "text": [
        "\n",
        "https://newsreader.scraperwiki.com/cars/summary_of_events_with_actor/page/22?output=json&uris.0=http%3A%2F%2Fdbpedia.org%2Fresource%2FTexas_Tech_University_System"
       ]
      },
      {
       "output_type": "stream",
       "stream": "stdout",
       "text": [
        "\n",
        "https://newsreader.scraperwiki.com/cars/summary_of_events_with_actor/page/23?uris.0=http%3A%2F%2Fdbpedia.org%2Fresource%2FTexas_Tech_University_System&output=json"
       ]
      },
      {
       "output_type": "stream",
       "stream": "stdout",
       "text": [
        "\n",
        "https://newsreader.scraperwiki.com/cars/summary_of_events_with_actor/page/24?output=json&uris.0=http%3A%2F%2Fdbpedia.org%2Fresource%2FTexas_Tech_University_System"
       ]
      },
      {
       "output_type": "stream",
       "stream": "stdout",
       "text": [
        "\n",
        "https://newsreader.scraperwiki.com/cars/summary_of_events_with_actor/page/25?uris.0=http%3A%2F%2Fdbpedia.org%2Fresource%2FTexas_Tech_University_System&output=json"
       ]
      },
      {
       "output_type": "stream",
       "stream": "stdout",
       "text": [
        "\n",
        "https://newsreader.scraperwiki.com/cars/summary_of_events_with_actor/page/26?output=json&uris.0=http%3A%2F%2Fdbpedia.org%2Fresource%2FTexas_Tech_University_System"
       ]
      },
      {
       "output_type": "stream",
       "stream": "stdout",
       "text": [
        "\n",
        "https://newsreader.scraperwiki.com/cars/summary_of_events_with_actor/page/27?uris.0=http%3A%2F%2Fdbpedia.org%2Fresource%2FTexas_Tech_University_System&output=json"
       ]
      },
      {
       "output_type": "stream",
       "stream": "stdout",
       "text": [
        "\n",
        "https://newsreader.scraperwiki.com/cars/summary_of_events_with_actor/page/28?output=json&uris.0=http%3A%2F%2Fdbpedia.org%2Fresource%2FTexas_Tech_University_System"
       ]
      },
      {
       "output_type": "stream",
       "stream": "stdout",
       "text": [
        "\n",
        "start"
       ]
      },
      {
       "output_type": "stream",
       "stream": "stdout",
       "text": [
        "\n",
        "http://dbpedia.org/resource/University_of_Michigan\n",
        "https://newsreader.scraperwiki.com/cars/summary_of_events_with_actor/page/2?output=json&uris.0=http%3A%2F%2Fdbpedia.org%2Fresource%2FUniversity_of_Michigan"
       ]
      },
      {
       "output_type": "stream",
       "stream": "stdout",
       "text": [
        "\n",
        "https://newsreader.scraperwiki.com/cars/summary_of_events_with_actor/page/3?uris.0=http%3A%2F%2Fdbpedia.org%2Fresource%2FUniversity_of_Michigan&output=json"
       ]
      },
      {
       "output_type": "stream",
       "stream": "stdout",
       "text": [
        "\n",
        "https://newsreader.scraperwiki.com/cars/summary_of_events_with_actor/page/4?output=json&uris.0=http%3A%2F%2Fdbpedia.org%2Fresource%2FUniversity_of_Michigan"
       ]
      },
      {
       "output_type": "stream",
       "stream": "stdout",
       "text": [
        "\n",
        "https://newsreader.scraperwiki.com/cars/summary_of_events_with_actor/page/5?uris.0=http%3A%2F%2Fdbpedia.org%2Fresource%2FUniversity_of_Michigan&output=json"
       ]
      },
      {
       "output_type": "stream",
       "stream": "stdout",
       "text": [
        "\n",
        "https://newsreader.scraperwiki.com/cars/summary_of_events_with_actor/page/6?output=json&uris.0=http%3A%2F%2Fdbpedia.org%2Fresource%2FUniversity_of_Michigan"
       ]
      },
      {
       "output_type": "stream",
       "stream": "stdout",
       "text": [
        "\n",
        "https://newsreader.scraperwiki.com/cars/summary_of_events_with_actor/page/7?uris.0=http%3A%2F%2Fdbpedia.org%2Fresource%2FUniversity_of_Michigan&output=json"
       ]
      },
      {
       "output_type": "stream",
       "stream": "stdout",
       "text": [
        "\n",
        "https://newsreader.scraperwiki.com/cars/summary_of_events_with_actor/page/8?output=json&uris.0=http%3A%2F%2Fdbpedia.org%2Fresource%2FUniversity_of_Michigan"
       ]
      },
      {
       "output_type": "stream",
       "stream": "stdout",
       "text": [
        "\n",
        "https://newsreader.scraperwiki.com/cars/summary_of_events_with_actor/page/9?uris.0=http%3A%2F%2Fdbpedia.org%2Fresource%2FUniversity_of_Michigan&output=json"
       ]
      },
      {
       "output_type": "stream",
       "stream": "stdout",
       "text": [
        "\n",
        "https://newsreader.scraperwiki.com/cars/summary_of_events_with_actor/page/10?output=json&uris.0=http%3A%2F%2Fdbpedia.org%2Fresource%2FUniversity_of_Michigan"
       ]
      },
      {
       "output_type": "stream",
       "stream": "stdout",
       "text": [
        "\n",
        "https://newsreader.scraperwiki.com/cars/summary_of_events_with_actor/page/11?uris.0=http%3A%2F%2Fdbpedia.org%2Fresource%2FUniversity_of_Michigan&output=json"
       ]
      },
      {
       "output_type": "stream",
       "stream": "stdout",
       "text": [
        "\n",
        "https://newsreader.scraperwiki.com/cars/summary_of_events_with_actor/page/12?output=json&uris.0=http%3A%2F%2Fdbpedia.org%2Fresource%2FUniversity_of_Michigan"
       ]
      },
      {
       "output_type": "stream",
       "stream": "stdout",
       "text": [
        "\n",
        "https://newsreader.scraperwiki.com/cars/summary_of_events_with_actor/page/13?uris.0=http%3A%2F%2Fdbpedia.org%2Fresource%2FUniversity_of_Michigan&output=json"
       ]
      },
      {
       "output_type": "stream",
       "stream": "stdout",
       "text": [
        "\n",
        "https://newsreader.scraperwiki.com/cars/summary_of_events_with_actor/page/14?output=json&uris.0=http%3A%2F%2Fdbpedia.org%2Fresource%2FUniversity_of_Michigan"
       ]
      },
      {
       "output_type": "stream",
       "stream": "stdout",
       "text": [
        "\n",
        "https://newsreader.scraperwiki.com/cars/summary_of_events_with_actor/page/15?uris.0=http%3A%2F%2Fdbpedia.org%2Fresource%2FUniversity_of_Michigan&output=json"
       ]
      },
      {
       "output_type": "stream",
       "stream": "stdout",
       "text": [
        "\n",
        "https://newsreader.scraperwiki.com/cars/summary_of_events_with_actor/page/16?output=json&uris.0=http%3A%2F%2Fdbpedia.org%2Fresource%2FUniversity_of_Michigan"
       ]
      },
      {
       "output_type": "stream",
       "stream": "stdout",
       "text": [
        "\n",
        "https://newsreader.scraperwiki.com/cars/summary_of_events_with_actor/page/17?uris.0=http%3A%2F%2Fdbpedia.org%2Fresource%2FUniversity_of_Michigan&output=json"
       ]
      },
      {
       "output_type": "stream",
       "stream": "stdout",
       "text": [
        "\n",
        "https://newsreader.scraperwiki.com/cars/summary_of_events_with_actor/page/18?output=json&uris.0=http%3A%2F%2Fdbpedia.org%2Fresource%2FUniversity_of_Michigan"
       ]
      },
      {
       "output_type": "stream",
       "stream": "stdout",
       "text": [
        "\n",
        "https://newsreader.scraperwiki.com/cars/summary_of_events_with_actor/page/19?uris.0=http%3A%2F%2Fdbpedia.org%2Fresource%2FUniversity_of_Michigan&output=json"
       ]
      },
      {
       "output_type": "stream",
       "stream": "stdout",
       "text": [
        "\n",
        "https://newsreader.scraperwiki.com/cars/summary_of_events_with_actor/page/20?output=json&uris.0=http%3A%2F%2Fdbpedia.org%2Fresource%2FUniversity_of_Michigan"
       ]
      },
      {
       "output_type": "stream",
       "stream": "stdout",
       "text": [
        "\n",
        "https://newsreader.scraperwiki.com/cars/summary_of_events_with_actor/page/21?uris.0=http%3A%2F%2Fdbpedia.org%2Fresource%2FUniversity_of_Michigan&output=json"
       ]
      },
      {
       "output_type": "stream",
       "stream": "stdout",
       "text": [
        "\n",
        "https://newsreader.scraperwiki.com/cars/summary_of_events_with_actor/page/22?output=json&uris.0=http%3A%2F%2Fdbpedia.org%2Fresource%2FUniversity_of_Michigan"
       ]
      },
      {
       "output_type": "stream",
       "stream": "stdout",
       "text": [
        "\n",
        "https://newsreader.scraperwiki.com/cars/summary_of_events_with_actor/page/23?uris.0=http%3A%2F%2Fdbpedia.org%2Fresource%2FUniversity_of_Michigan&output=json"
       ]
      },
      {
       "output_type": "stream",
       "stream": "stdout",
       "text": [
        "\n",
        "https://newsreader.scraperwiki.com/cars/summary_of_events_with_actor/page/24?output=json&uris.0=http%3A%2F%2Fdbpedia.org%2Fresource%2FUniversity_of_Michigan"
       ]
      },
      {
       "output_type": "stream",
       "stream": "stdout",
       "text": [
        "\n",
        "https://newsreader.scraperwiki.com/cars/summary_of_events_with_actor/page/25?uris.0=http%3A%2F%2Fdbpedia.org%2Fresource%2FUniversity_of_Michigan&output=json"
       ]
      },
      {
       "output_type": "stream",
       "stream": "stdout",
       "text": [
        "\n",
        "https://newsreader.scraperwiki.com/cars/summary_of_events_with_actor/page/26?output=json&uris.0=http%3A%2F%2Fdbpedia.org%2Fresource%2FUniversity_of_Michigan"
       ]
      },
      {
       "output_type": "stream",
       "stream": "stdout",
       "text": [
        "\n",
        "https://newsreader.scraperwiki.com/cars/summary_of_events_with_actor/page/27?uris.0=http%3A%2F%2Fdbpedia.org%2Fresource%2FUniversity_of_Michigan&output=json"
       ]
      },
      {
       "output_type": "stream",
       "stream": "stdout",
       "text": [
        "\n",
        "https://newsreader.scraperwiki.com/cars/summary_of_events_with_actor/page/28?output=json&uris.0=http%3A%2F%2Fdbpedia.org%2Fresource%2FUniversity_of_Michigan"
       ]
      },
      {
       "output_type": "stream",
       "stream": "stdout",
       "text": [
        "\n",
        "https://newsreader.scraperwiki.com/cars/summary_of_events_with_actor/page/29?uris.0=http%3A%2F%2Fdbpedia.org%2Fresource%2FUniversity_of_Michigan&output=json"
       ]
      },
      {
       "output_type": "stream",
       "stream": "stdout",
       "text": [
        "\n",
        "https://newsreader.scraperwiki.com/cars/summary_of_events_with_actor/page/30?output=json&uris.0=http%3A%2F%2Fdbpedia.org%2Fresource%2FUniversity_of_Michigan"
       ]
      },
      {
       "output_type": "stream",
       "stream": "stdout",
       "text": [
        "\n",
        "https://newsreader.scraperwiki.com/cars/summary_of_events_with_actor/page/31?uris.0=http%3A%2F%2Fdbpedia.org%2Fresource%2FUniversity_of_Michigan&output=json"
       ]
      },
      {
       "output_type": "stream",
       "stream": "stdout",
       "text": [
        "\n",
        "https://newsreader.scraperwiki.com/cars/summary_of_events_with_actor/page/32?output=json&uris.0=http%3A%2F%2Fdbpedia.org%2Fresource%2FUniversity_of_Michigan"
       ]
      },
      {
       "output_type": "stream",
       "stream": "stdout",
       "text": [
        "\n",
        "https://newsreader.scraperwiki.com/cars/summary_of_events_with_actor/page/33?uris.0=http%3A%2F%2Fdbpedia.org%2Fresource%2FUniversity_of_Michigan&output=json"
       ]
      },
      {
       "output_type": "stream",
       "stream": "stdout",
       "text": [
        "\n",
        "https://newsreader.scraperwiki.com/cars/summary_of_events_with_actor/page/34?output=json&uris.0=http%3A%2F%2Fdbpedia.org%2Fresource%2FUniversity_of_Michigan"
       ]
      },
      {
       "output_type": "stream",
       "stream": "stdout",
       "text": [
        "\n",
        "https://newsreader.scraperwiki.com/cars/summary_of_events_with_actor/page/35?uris.0=http%3A%2F%2Fdbpedia.org%2Fresource%2FUniversity_of_Michigan&output=json"
       ]
      },
      {
       "output_type": "stream",
       "stream": "stdout",
       "text": [
        "\n",
        "https://newsreader.scraperwiki.com/cars/summary_of_events_with_actor/page/36?output=json&uris.0=http%3A%2F%2Fdbpedia.org%2Fresource%2FUniversity_of_Michigan"
       ]
      },
      {
       "output_type": "stream",
       "stream": "stdout",
       "text": [
        "\n",
        "https://newsreader.scraperwiki.com/cars/summary_of_events_with_actor/page/37?uris.0=http%3A%2F%2Fdbpedia.org%2Fresource%2FUniversity_of_Michigan&output=json"
       ]
      },
      {
       "output_type": "stream",
       "stream": "stdout",
       "text": [
        "\n",
        "https://newsreader.scraperwiki.com/cars/summary_of_events_with_actor/page/38?output=json&uris.0=http%3A%2F%2Fdbpedia.org%2Fresource%2FUniversity_of_Michigan"
       ]
      },
      {
       "output_type": "stream",
       "stream": "stdout",
       "text": [
        "\n",
        "start"
       ]
      },
      {
       "output_type": "stream",
       "stream": "stdout",
       "text": [
        "\n",
        "http://dbpedia.org/resource/Stanford_University\n",
        "https://newsreader.scraperwiki.com/cars/summary_of_events_with_actor/page/2?output=json&uris.0=http%3A%2F%2Fdbpedia.org%2Fresource%2FStanford_University"
       ]
      },
      {
       "output_type": "stream",
       "stream": "stdout",
       "text": [
        "\n",
        "https://newsreader.scraperwiki.com/cars/summary_of_events_with_actor/page/3?uris.0=http%3A%2F%2Fdbpedia.org%2Fresource%2FStanford_University&output=json"
       ]
      },
      {
       "output_type": "stream",
       "stream": "stdout",
       "text": [
        "\n",
        "https://newsreader.scraperwiki.com/cars/summary_of_events_with_actor/page/4?output=json&uris.0=http%3A%2F%2Fdbpedia.org%2Fresource%2FStanford_University"
       ]
      },
      {
       "output_type": "stream",
       "stream": "stdout",
       "text": [
        "\n",
        "https://newsreader.scraperwiki.com/cars/summary_of_events_with_actor/page/5?uris.0=http%3A%2F%2Fdbpedia.org%2Fresource%2FStanford_University&output=json"
       ]
      },
      {
       "output_type": "stream",
       "stream": "stdout",
       "text": [
        "\n",
        "https://newsreader.scraperwiki.com/cars/summary_of_events_with_actor/page/6?output=json&uris.0=http%3A%2F%2Fdbpedia.org%2Fresource%2FStanford_University"
       ]
      },
      {
       "output_type": "stream",
       "stream": "stdout",
       "text": [
        "\n",
        "https://newsreader.scraperwiki.com/cars/summary_of_events_with_actor/page/7?uris.0=http%3A%2F%2Fdbpedia.org%2Fresource%2FStanford_University&output=json"
       ]
      },
      {
       "output_type": "stream",
       "stream": "stdout",
       "text": [
        "\n",
        "https://newsreader.scraperwiki.com/cars/summary_of_events_with_actor/page/8?output=json&uris.0=http%3A%2F%2Fdbpedia.org%2Fresource%2FStanford_University"
       ]
      },
      {
       "output_type": "stream",
       "stream": "stdout",
       "text": [
        "\n",
        "https://newsreader.scraperwiki.com/cars/summary_of_events_with_actor/page/9?uris.0=http%3A%2F%2Fdbpedia.org%2Fresource%2FStanford_University&output=json"
       ]
      },
      {
       "output_type": "stream",
       "stream": "stdout",
       "text": [
        "\n",
        "https://newsreader.scraperwiki.com/cars/summary_of_events_with_actor/page/10?output=json&uris.0=http%3A%2F%2Fdbpedia.org%2Fresource%2FStanford_University"
       ]
      },
      {
       "output_type": "stream",
       "stream": "stdout",
       "text": [
        "\n",
        "https://newsreader.scraperwiki.com/cars/summary_of_events_with_actor/page/11?uris.0=http%3A%2F%2Fdbpedia.org%2Fresource%2FStanford_University&output=json"
       ]
      },
      {
       "output_type": "stream",
       "stream": "stdout",
       "text": [
        "\n",
        "https://newsreader.scraperwiki.com/cars/summary_of_events_with_actor/page/12?output=json&uris.0=http%3A%2F%2Fdbpedia.org%2Fresource%2FStanford_University"
       ]
      },
      {
       "output_type": "stream",
       "stream": "stdout",
       "text": [
        "\n",
        "https://newsreader.scraperwiki.com/cars/summary_of_events_with_actor/page/13?uris.0=http%3A%2F%2Fdbpedia.org%2Fresource%2FStanford_University&output=json"
       ]
      },
      {
       "output_type": "stream",
       "stream": "stdout",
       "text": [
        "\n",
        "https://newsreader.scraperwiki.com/cars/summary_of_events_with_actor/page/14?output=json&uris.0=http%3A%2F%2Fdbpedia.org%2Fresource%2FStanford_University"
       ]
      },
      {
       "output_type": "stream",
       "stream": "stdout",
       "text": [
        "\n",
        "https://newsreader.scraperwiki.com/cars/summary_of_events_with_actor/page/15?uris.0=http%3A%2F%2Fdbpedia.org%2Fresource%2FStanford_University&output=json"
       ]
      },
      {
       "output_type": "stream",
       "stream": "stdout",
       "text": [
        "\n",
        "https://newsreader.scraperwiki.com/cars/summary_of_events_with_actor/page/16?output=json&uris.0=http%3A%2F%2Fdbpedia.org%2Fresource%2FStanford_University"
       ]
      },
      {
       "output_type": "stream",
       "stream": "stdout",
       "text": [
        "\n",
        "https://newsreader.scraperwiki.com/cars/summary_of_events_with_actor/page/17?uris.0=http%3A%2F%2Fdbpedia.org%2Fresource%2FStanford_University&output=json"
       ]
      },
      {
       "output_type": "stream",
       "stream": "stdout",
       "text": [
        "\n",
        "https://newsreader.scraperwiki.com/cars/summary_of_events_with_actor/page/18?output=json&uris.0=http%3A%2F%2Fdbpedia.org%2Fresource%2FStanford_University"
       ]
      },
      {
       "output_type": "stream",
       "stream": "stdout",
       "text": [
        "\n",
        "https://newsreader.scraperwiki.com/cars/summary_of_events_with_actor/page/19?uris.0=http%3A%2F%2Fdbpedia.org%2Fresource%2FStanford_University&output=json"
       ]
      },
      {
       "output_type": "stream",
       "stream": "stdout",
       "text": [
        "\n",
        "https://newsreader.scraperwiki.com/cars/summary_of_events_with_actor/page/20?output=json&uris.0=http%3A%2F%2Fdbpedia.org%2Fresource%2FStanford_University"
       ]
      },
      {
       "output_type": "stream",
       "stream": "stdout",
       "text": [
        "\n",
        "https://newsreader.scraperwiki.com/cars/summary_of_events_with_actor/page/21?uris.0=http%3A%2F%2Fdbpedia.org%2Fresource%2FStanford_University&output=json"
       ]
      },
      {
       "output_type": "stream",
       "stream": "stdout",
       "text": [
        "\n",
        "https://newsreader.scraperwiki.com/cars/summary_of_events_with_actor/page/22?output=json&uris.0=http%3A%2F%2Fdbpedia.org%2Fresource%2FStanford_University"
       ]
      },
      {
       "output_type": "stream",
       "stream": "stdout",
       "text": [
        "\n",
        "https://newsreader.scraperwiki.com/cars/summary_of_events_with_actor/page/23?uris.0=http%3A%2F%2Fdbpedia.org%2Fresource%2FStanford_University&output=json"
       ]
      },
      {
       "output_type": "stream",
       "stream": "stdout",
       "text": [
        "\n",
        "https://newsreader.scraperwiki.com/cars/summary_of_events_with_actor/page/24?output=json&uris.0=http%3A%2F%2Fdbpedia.org%2Fresource%2FStanford_University"
       ]
      },
      {
       "output_type": "stream",
       "stream": "stdout",
       "text": [
        "\n",
        "https://newsreader.scraperwiki.com/cars/summary_of_events_with_actor/page/25?uris.0=http%3A%2F%2Fdbpedia.org%2Fresource%2FStanford_University&output=json"
       ]
      },
      {
       "output_type": "stream",
       "stream": "stdout",
       "text": [
        "\n",
        "https://newsreader.scraperwiki.com/cars/summary_of_events_with_actor/page/26?output=json&uris.0=http%3A%2F%2Fdbpedia.org%2Fresource%2FStanford_University"
       ]
      },
      {
       "output_type": "stream",
       "stream": "stdout",
       "text": [
        "\n",
        "start"
       ]
      },
      {
       "output_type": "stream",
       "stream": "stdout",
       "text": [
        "\n",
        "http://dbpedia.org/resource/Michigan_State_University\n",
        "https://newsreader.scraperwiki.com/cars/summary_of_events_with_actor/page/2?output=json&uris.0=http%3A%2F%2Fdbpedia.org%2Fresource%2FMichigan_State_University"
       ]
      },
      {
       "output_type": "stream",
       "stream": "stdout",
       "text": [
        "\n",
        "https://newsreader.scraperwiki.com/cars/summary_of_events_with_actor/page/3?uris.0=http%3A%2F%2Fdbpedia.org%2Fresource%2FMichigan_State_University&output=json"
       ]
      },
      {
       "output_type": "stream",
       "stream": "stdout",
       "text": [
        "\n",
        "https://newsreader.scraperwiki.com/cars/summary_of_events_with_actor/page/4?output=json&uris.0=http%3A%2F%2Fdbpedia.org%2Fresource%2FMichigan_State_University"
       ]
      },
      {
       "output_type": "stream",
       "stream": "stdout",
       "text": [
        "\n",
        "https://newsreader.scraperwiki.com/cars/summary_of_events_with_actor/page/5?uris.0=http%3A%2F%2Fdbpedia.org%2Fresource%2FMichigan_State_University&output=json"
       ]
      },
      {
       "output_type": "stream",
       "stream": "stdout",
       "text": [
        "\n",
        "https://newsreader.scraperwiki.com/cars/summary_of_events_with_actor/page/6?output=json&uris.0=http%3A%2F%2Fdbpedia.org%2Fresource%2FMichigan_State_University"
       ]
      },
      {
       "output_type": "stream",
       "stream": "stdout",
       "text": [
        "\n",
        "https://newsreader.scraperwiki.com/cars/summary_of_events_with_actor/page/7?uris.0=http%3A%2F%2Fdbpedia.org%2Fresource%2FMichigan_State_University&output=json"
       ]
      },
      {
       "output_type": "stream",
       "stream": "stdout",
       "text": [
        "\n",
        "https://newsreader.scraperwiki.com/cars/summary_of_events_with_actor/page/8?output=json&uris.0=http%3A%2F%2Fdbpedia.org%2Fresource%2FMichigan_State_University"
       ]
      },
      {
       "output_type": "stream",
       "stream": "stdout",
       "text": [
        "\n",
        "https://newsreader.scraperwiki.com/cars/summary_of_events_with_actor/page/9?uris.0=http%3A%2F%2Fdbpedia.org%2Fresource%2FMichigan_State_University&output=json"
       ]
      },
      {
       "output_type": "stream",
       "stream": "stdout",
       "text": [
        "\n",
        "https://newsreader.scraperwiki.com/cars/summary_of_events_with_actor/page/10?output=json&uris.0=http%3A%2F%2Fdbpedia.org%2Fresource%2FMichigan_State_University"
       ]
      },
      {
       "output_type": "stream",
       "stream": "stdout",
       "text": [
        "\n",
        "https://newsreader.scraperwiki.com/cars/summary_of_events_with_actor/page/11?uris.0=http%3A%2F%2Fdbpedia.org%2Fresource%2FMichigan_State_University&output=json"
       ]
      },
      {
       "output_type": "stream",
       "stream": "stdout",
       "text": [
        "\n",
        "https://newsreader.scraperwiki.com/cars/summary_of_events_with_actor/page/12?output=json&uris.0=http%3A%2F%2Fdbpedia.org%2Fresource%2FMichigan_State_University"
       ]
      },
      {
       "output_type": "stream",
       "stream": "stdout",
       "text": [
        "\n",
        "https://newsreader.scraperwiki.com/cars/summary_of_events_with_actor/page/13?uris.0=http%3A%2F%2Fdbpedia.org%2Fresource%2FMichigan_State_University&output=json"
       ]
      },
      {
       "output_type": "stream",
       "stream": "stdout",
       "text": [
        "\n",
        "https://newsreader.scraperwiki.com/cars/summary_of_events_with_actor/page/14?output=json&uris.0=http%3A%2F%2Fdbpedia.org%2Fresource%2FMichigan_State_University"
       ]
      },
      {
       "output_type": "stream",
       "stream": "stdout",
       "text": [
        "\n",
        "https://newsreader.scraperwiki.com/cars/summary_of_events_with_actor/page/15?uris.0=http%3A%2F%2Fdbpedia.org%2Fresource%2FMichigan_State_University&output=json"
       ]
      },
      {
       "output_type": "stream",
       "stream": "stdout",
       "text": [
        "\n",
        "https://newsreader.scraperwiki.com/cars/summary_of_events_with_actor/page/16?output=json&uris.0=http%3A%2F%2Fdbpedia.org%2Fresource%2FMichigan_State_University"
       ]
      },
      {
       "output_type": "stream",
       "stream": "stdout",
       "text": [
        "\n",
        "https://newsreader.scraperwiki.com/cars/summary_of_events_with_actor/page/17?uris.0=http%3A%2F%2Fdbpedia.org%2Fresource%2FMichigan_State_University&output=json"
       ]
      },
      {
       "output_type": "stream",
       "stream": "stdout",
       "text": [
        "\n",
        "https://newsreader.scraperwiki.com/cars/summary_of_events_with_actor/page/18?output=json&uris.0=http%3A%2F%2Fdbpedia.org%2Fresource%2FMichigan_State_University"
       ]
      },
      {
       "output_type": "stream",
       "stream": "stdout",
       "text": [
        "\n",
        "https://newsreader.scraperwiki.com/cars/summary_of_events_with_actor/page/19?uris.0=http%3A%2F%2Fdbpedia.org%2Fresource%2FMichigan_State_University&output=json"
       ]
      },
      {
       "output_type": "stream",
       "stream": "stdout",
       "text": [
        "\n",
        "https://newsreader.scraperwiki.com/cars/summary_of_events_with_actor/page/20?output=json&uris.0=http%3A%2F%2Fdbpedia.org%2Fresource%2FMichigan_State_University"
       ]
      },
      {
       "output_type": "stream",
       "stream": "stdout",
       "text": [
        "\n",
        "https://newsreader.scraperwiki.com/cars/summary_of_events_with_actor/page/21?uris.0=http%3A%2F%2Fdbpedia.org%2Fresource%2FMichigan_State_University&output=json"
       ]
      },
      {
       "output_type": "stream",
       "stream": "stdout",
       "text": [
        "\n",
        "start"
       ]
      },
      {
       "output_type": "stream",
       "stream": "stdout",
       "text": [
        "\n",
        "http://dbpedia.org/resource/Pennsylvania_State_University\n",
        "https://newsreader.scraperwiki.com/cars/summary_of_events_with_actor/page/2?output=json&uris.0=http%3A%2F%2Fdbpedia.org%2Fresource%2FPennsylvania_State_University"
       ]
      },
      {
       "output_type": "stream",
       "stream": "stdout",
       "text": [
        "\n",
        "https://newsreader.scraperwiki.com/cars/summary_of_events_with_actor/page/3?uris.0=http%3A%2F%2Fdbpedia.org%2Fresource%2FPennsylvania_State_University&output=json"
       ]
      },
      {
       "output_type": "stream",
       "stream": "stdout",
       "text": [
        "\n",
        "https://newsreader.scraperwiki.com/cars/summary_of_events_with_actor/page/4?output=json&uris.0=http%3A%2F%2Fdbpedia.org%2Fresource%2FPennsylvania_State_University"
       ]
      },
      {
       "output_type": "stream",
       "stream": "stdout",
       "text": [
        "\n",
        "https://newsreader.scraperwiki.com/cars/summary_of_events_with_actor/page/5?uris.0=http%3A%2F%2Fdbpedia.org%2Fresource%2FPennsylvania_State_University&output=json"
       ]
      },
      {
       "output_type": "stream",
       "stream": "stdout",
       "text": [
        "\n",
        "https://newsreader.scraperwiki.com/cars/summary_of_events_with_actor/page/6?output=json&uris.0=http%3A%2F%2Fdbpedia.org%2Fresource%2FPennsylvania_State_University"
       ]
      },
      {
       "output_type": "stream",
       "stream": "stdout",
       "text": [
        "\n",
        "https://newsreader.scraperwiki.com/cars/summary_of_events_with_actor/page/7?uris.0=http%3A%2F%2Fdbpedia.org%2Fresource%2FPennsylvania_State_University&output=json"
       ]
      },
      {
       "output_type": "stream",
       "stream": "stdout",
       "text": [
        "\n",
        "https://newsreader.scraperwiki.com/cars/summary_of_events_with_actor/page/8?output=json&uris.0=http%3A%2F%2Fdbpedia.org%2Fresource%2FPennsylvania_State_University"
       ]
      },
      {
       "output_type": "stream",
       "stream": "stdout",
       "text": [
        "\n",
        "https://newsreader.scraperwiki.com/cars/summary_of_events_with_actor/page/9?uris.0=http%3A%2F%2Fdbpedia.org%2Fresource%2FPennsylvania_State_University&output=json"
       ]
      },
      {
       "output_type": "stream",
       "stream": "stdout",
       "text": [
        "\n",
        "https://newsreader.scraperwiki.com/cars/summary_of_events_with_actor/page/10?output=json&uris.0=http%3A%2F%2Fdbpedia.org%2Fresource%2FPennsylvania_State_University"
       ]
      },
      {
       "output_type": "stream",
       "stream": "stdout",
       "text": [
        "\n",
        "https://newsreader.scraperwiki.com/cars/summary_of_events_with_actor/page/11?uris.0=http%3A%2F%2Fdbpedia.org%2Fresource%2FPennsylvania_State_University&output=json"
       ]
      },
      {
       "output_type": "stream",
       "stream": "stdout",
       "text": [
        "\n",
        "https://newsreader.scraperwiki.com/cars/summary_of_events_with_actor/page/12?output=json&uris.0=http%3A%2F%2Fdbpedia.org%2Fresource%2FPennsylvania_State_University"
       ]
      },
      {
       "output_type": "stream",
       "stream": "stdout",
       "text": [
        "\n",
        "https://newsreader.scraperwiki.com/cars/summary_of_events_with_actor/page/13?uris.0=http%3A%2F%2Fdbpedia.org%2Fresource%2FPennsylvania_State_University&output=json"
       ]
      },
      {
       "output_type": "stream",
       "stream": "stdout",
       "text": [
        "\n",
        "https://newsreader.scraperwiki.com/cars/summary_of_events_with_actor/page/14?output=json&uris.0=http%3A%2F%2Fdbpedia.org%2Fresource%2FPennsylvania_State_University"
       ]
      },
      {
       "output_type": "stream",
       "stream": "stdout",
       "text": [
        "\n",
        "https://newsreader.scraperwiki.com/cars/summary_of_events_with_actor/page/15?uris.0=http%3A%2F%2Fdbpedia.org%2Fresource%2FPennsylvania_State_University&output=json"
       ]
      },
      {
       "output_type": "stream",
       "stream": "stdout",
       "text": [
        "\n",
        "https://newsreader.scraperwiki.com/cars/summary_of_events_with_actor/page/16?output=json&uris.0=http%3A%2F%2Fdbpedia.org%2Fresource%2FPennsylvania_State_University"
       ]
      },
      {
       "output_type": "stream",
       "stream": "stdout",
       "text": [
        "\n",
        "https://newsreader.scraperwiki.com/cars/summary_of_events_with_actor/page/17?uris.0=http%3A%2F%2Fdbpedia.org%2Fresource%2FPennsylvania_State_University&output=json"
       ]
      },
      {
       "output_type": "stream",
       "stream": "stdout",
       "text": [
        "\n",
        "https://newsreader.scraperwiki.com/cars/summary_of_events_with_actor/page/18?output=json&uris.0=http%3A%2F%2Fdbpedia.org%2Fresource%2FPennsylvania_State_University"
       ]
      },
      {
       "output_type": "stream",
       "stream": "stdout",
       "text": [
        "\n",
        "https://newsreader.scraperwiki.com/cars/summary_of_events_with_actor/page/19?uris.0=http%3A%2F%2Fdbpedia.org%2Fresource%2FPennsylvania_State_University&output=json"
       ]
      },
      {
       "output_type": "stream",
       "stream": "stdout",
       "text": [
        "\n",
        "https://newsreader.scraperwiki.com/cars/summary_of_events_with_actor/page/20?output=json&uris.0=http%3A%2F%2Fdbpedia.org%2Fresource%2FPennsylvania_State_University"
       ]
      },
      {
       "output_type": "stream",
       "stream": "stdout",
       "text": [
        "\n",
        "https://newsreader.scraperwiki.com/cars/summary_of_events_with_actor/page/21?uris.0=http%3A%2F%2Fdbpedia.org%2Fresource%2FPennsylvania_State_University&output=json"
       ]
      },
      {
       "output_type": "stream",
       "stream": "stdout",
       "text": [
        "\n",
        "https://newsreader.scraperwiki.com/cars/summary_of_events_with_actor/page/22?output=json&uris.0=http%3A%2F%2Fdbpedia.org%2Fresource%2FPennsylvania_State_University"
       ]
      },
      {
       "output_type": "stream",
       "stream": "stdout",
       "text": [
        "\n",
        "https://newsreader.scraperwiki.com/cars/summary_of_events_with_actor/page/23?uris.0=http%3A%2F%2Fdbpedia.org%2Fresource%2FPennsylvania_State_University&output=json"
       ]
      },
      {
       "output_type": "stream",
       "stream": "stdout",
       "text": [
        "\n",
        "https://newsreader.scraperwiki.com/cars/summary_of_events_with_actor/page/24?output=json&uris.0=http%3A%2F%2Fdbpedia.org%2Fresource%2FPennsylvania_State_University"
       ]
      },
      {
       "output_type": "stream",
       "stream": "stdout",
       "text": [
        "\n",
        "start"
       ]
      },
      {
       "output_type": "stream",
       "stream": "stdout",
       "text": [
        "\n",
        "http://dbpedia.org/resource/Harvard_University\n",
        "https://newsreader.scraperwiki.com/cars/summary_of_events_with_actor/page/2?output=json&uris.0=http%3A%2F%2Fdbpedia.org%2Fresource%2FHarvard_University"
       ]
      },
      {
       "output_type": "stream",
       "stream": "stdout",
       "text": [
        "\n",
        "https://newsreader.scraperwiki.com/cars/summary_of_events_with_actor/page/3?uris.0=http%3A%2F%2Fdbpedia.org%2Fresource%2FHarvard_University&output=json"
       ]
      },
      {
       "output_type": "stream",
       "stream": "stdout",
       "text": [
        "\n",
        "https://newsreader.scraperwiki.com/cars/summary_of_events_with_actor/page/4?output=json&uris.0=http%3A%2F%2Fdbpedia.org%2Fresource%2FHarvard_University"
       ]
      },
      {
       "output_type": "stream",
       "stream": "stdout",
       "text": [
        "\n",
        "https://newsreader.scraperwiki.com/cars/summary_of_events_with_actor/page/5?uris.0=http%3A%2F%2Fdbpedia.org%2Fresource%2FHarvard_University&output=json"
       ]
      },
      {
       "output_type": "stream",
       "stream": "stdout",
       "text": [
        "\n",
        "https://newsreader.scraperwiki.com/cars/summary_of_events_with_actor/page/6?output=json&uris.0=http%3A%2F%2Fdbpedia.org%2Fresource%2FHarvard_University"
       ]
      },
      {
       "output_type": "stream",
       "stream": "stdout",
       "text": [
        "\n",
        "https://newsreader.scraperwiki.com/cars/summary_of_events_with_actor/page/7?uris.0=http%3A%2F%2Fdbpedia.org%2Fresource%2FHarvard_University&output=json"
       ]
      },
      {
       "output_type": "stream",
       "stream": "stdout",
       "text": [
        "\n",
        "https://newsreader.scraperwiki.com/cars/summary_of_events_with_actor/page/8?output=json&uris.0=http%3A%2F%2Fdbpedia.org%2Fresource%2FHarvard_University"
       ]
      },
      {
       "output_type": "stream",
       "stream": "stdout",
       "text": [
        "\n",
        "https://newsreader.scraperwiki.com/cars/summary_of_events_with_actor/page/9?uris.0=http%3A%2F%2Fdbpedia.org%2Fresource%2FHarvard_University&output=json"
       ]
      },
      {
       "output_type": "stream",
       "stream": "stdout",
       "text": [
        "\n",
        "https://newsreader.scraperwiki.com/cars/summary_of_events_with_actor/page/10?output=json&uris.0=http%3A%2F%2Fdbpedia.org%2Fresource%2FHarvard_University"
       ]
      },
      {
       "output_type": "stream",
       "stream": "stdout",
       "text": [
        "\n",
        "https://newsreader.scraperwiki.com/cars/summary_of_events_with_actor/page/11?uris.0=http%3A%2F%2Fdbpedia.org%2Fresource%2FHarvard_University&output=json"
       ]
      },
      {
       "output_type": "stream",
       "stream": "stdout",
       "text": [
        "\n",
        "https://newsreader.scraperwiki.com/cars/summary_of_events_with_actor/page/12?output=json&uris.0=http%3A%2F%2Fdbpedia.org%2Fresource%2FHarvard_University"
       ]
      },
      {
       "output_type": "stream",
       "stream": "stdout",
       "text": [
        "\n",
        "https://newsreader.scraperwiki.com/cars/summary_of_events_with_actor/page/13?uris.0=http%3A%2F%2Fdbpedia.org%2Fresource%2FHarvard_University&output=json"
       ]
      },
      {
       "output_type": "stream",
       "stream": "stdout",
       "text": [
        "\n",
        "https://newsreader.scraperwiki.com/cars/summary_of_events_with_actor/page/14?output=json&uris.0=http%3A%2F%2Fdbpedia.org%2Fresource%2FHarvard_University"
       ]
      },
      {
       "output_type": "stream",
       "stream": "stdout",
       "text": [
        "\n",
        "https://newsreader.scraperwiki.com/cars/summary_of_events_with_actor/page/15?uris.0=http%3A%2F%2Fdbpedia.org%2Fresource%2FHarvard_University&output=json"
       ]
      },
      {
       "output_type": "stream",
       "stream": "stdout",
       "text": [
        "\n",
        "https://newsreader.scraperwiki.com/cars/summary_of_events_with_actor/page/16?output=json&uris.0=http%3A%2F%2Fdbpedia.org%2Fresource%2FHarvard_University"
       ]
      },
      {
       "output_type": "stream",
       "stream": "stdout",
       "text": [
        "\n",
        "https://newsreader.scraperwiki.com/cars/summary_of_events_with_actor/page/17?uris.0=http%3A%2F%2Fdbpedia.org%2Fresource%2FHarvard_University&output=json"
       ]
      },
      {
       "output_type": "stream",
       "stream": "stdout",
       "text": [
        "\n",
        "https://newsreader.scraperwiki.com/cars/summary_of_events_with_actor/page/18?output=json&uris.0=http%3A%2F%2Fdbpedia.org%2Fresource%2FHarvard_University"
       ]
      },
      {
       "output_type": "stream",
       "stream": "stdout",
       "text": [
        "\n",
        "https://newsreader.scraperwiki.com/cars/summary_of_events_with_actor/page/19?uris.0=http%3A%2F%2Fdbpedia.org%2Fresource%2FHarvard_University&output=json"
       ]
      },
      {
       "output_type": "stream",
       "stream": "stdout",
       "text": [
        "\n",
        "https://newsreader.scraperwiki.com/cars/summary_of_events_with_actor/page/20?output=json&uris.0=http%3A%2F%2Fdbpedia.org%2Fresource%2FHarvard_University"
       ]
      },
      {
       "output_type": "stream",
       "stream": "stdout",
       "text": [
        "\n",
        "https://newsreader.scraperwiki.com/cars/summary_of_events_with_actor/page/21?uris.0=http%3A%2F%2Fdbpedia.org%2Fresource%2FHarvard_University&output=json"
       ]
      },
      {
       "output_type": "stream",
       "stream": "stdout",
       "text": [
        "\n",
        "https://newsreader.scraperwiki.com/cars/summary_of_events_with_actor/page/22?output=json&uris.0=http%3A%2F%2Fdbpedia.org%2Fresource%2FHarvard_University"
       ]
      },
      {
       "output_type": "stream",
       "stream": "stdout",
       "text": [
        "\n",
        "https://newsreader.scraperwiki.com/cars/summary_of_events_with_actor/page/23?uris.0=http%3A%2F%2Fdbpedia.org%2Fresource%2FHarvard_University&output=json"
       ]
      },
      {
       "output_type": "stream",
       "stream": "stdout",
       "text": [
        "\n",
        "start"
       ]
      },
      {
       "output_type": "stream",
       "stream": "stdout",
       "text": [
        "\n",
        "http://dbpedia.org/resource/Auburn_University\n",
        "https://newsreader.scraperwiki.com/cars/summary_of_events_with_actor/page/2?output=json&uris.0=http%3A%2F%2Fdbpedia.org%2Fresource%2FAuburn_University"
       ]
      },
      {
       "output_type": "stream",
       "stream": "stdout",
       "text": [
        "\n",
        "https://newsreader.scraperwiki.com/cars/summary_of_events_with_actor/page/3?uris.0=http%3A%2F%2Fdbpedia.org%2Fresource%2FAuburn_University&output=json"
       ]
      },
      {
       "output_type": "stream",
       "stream": "stdout",
       "text": [
        "\n",
        "https://newsreader.scraperwiki.com/cars/summary_of_events_with_actor/page/4?output=json&uris.0=http%3A%2F%2Fdbpedia.org%2Fresource%2FAuburn_University"
       ]
      },
      {
       "output_type": "stream",
       "stream": "stdout",
       "text": [
        "\n",
        "https://newsreader.scraperwiki.com/cars/summary_of_events_with_actor/page/5?uris.0=http%3A%2F%2Fdbpedia.org%2Fresource%2FAuburn_University&output=json"
       ]
      },
      {
       "output_type": "stream",
       "stream": "stdout",
       "text": [
        "\n",
        "https://newsreader.scraperwiki.com/cars/summary_of_events_with_actor/page/6?output=json&uris.0=http%3A%2F%2Fdbpedia.org%2Fresource%2FAuburn_University"
       ]
      },
      {
       "output_type": "stream",
       "stream": "stdout",
       "text": [
        "\n",
        "https://newsreader.scraperwiki.com/cars/summary_of_events_with_actor/page/7?uris.0=http%3A%2F%2Fdbpedia.org%2Fresource%2FAuburn_University&output=json"
       ]
      },
      {
       "output_type": "stream",
       "stream": "stdout",
       "text": [
        "\n",
        "https://newsreader.scraperwiki.com/cars/summary_of_events_with_actor/page/8?output=json&uris.0=http%3A%2F%2Fdbpedia.org%2Fresource%2FAuburn_University"
       ]
      },
      {
       "output_type": "stream",
       "stream": "stdout",
       "text": [
        "\n",
        "https://newsreader.scraperwiki.com/cars/summary_of_events_with_actor/page/9?uris.0=http%3A%2F%2Fdbpedia.org%2Fresource%2FAuburn_University&output=json"
       ]
      },
      {
       "output_type": "stream",
       "stream": "stdout",
       "text": [
        "\n",
        "https://newsreader.scraperwiki.com/cars/summary_of_events_with_actor/page/10?output=json&uris.0=http%3A%2F%2Fdbpedia.org%2Fresource%2FAuburn_University"
       ]
      },
      {
       "output_type": "stream",
       "stream": "stdout",
       "text": [
        "\n",
        "https://newsreader.scraperwiki.com/cars/summary_of_events_with_actor/page/11?uris.0=http%3A%2F%2Fdbpedia.org%2Fresource%2FAuburn_University&output=json"
       ]
      },
      {
       "output_type": "stream",
       "stream": "stdout",
       "text": [
        "\n",
        "https://newsreader.scraperwiki.com/cars/summary_of_events_with_actor/page/12?output=json&uris.0=http%3A%2F%2Fdbpedia.org%2Fresource%2FAuburn_University"
       ]
      },
      {
       "output_type": "stream",
       "stream": "stdout",
       "text": [
        "\n",
        "https://newsreader.scraperwiki.com/cars/summary_of_events_with_actor/page/13?uris.0=http%3A%2F%2Fdbpedia.org%2Fresource%2FAuburn_University&output=json"
       ]
      },
      {
       "output_type": "stream",
       "stream": "stdout",
       "text": [
        "\n",
        "https://newsreader.scraperwiki.com/cars/summary_of_events_with_actor/page/14?output=json&uris.0=http%3A%2F%2Fdbpedia.org%2Fresource%2FAuburn_University"
       ]
      },
      {
       "output_type": "stream",
       "stream": "stdout",
       "text": [
        "\n",
        "https://newsreader.scraperwiki.com/cars/summary_of_events_with_actor/page/15?uris.0=http%3A%2F%2Fdbpedia.org%2Fresource%2FAuburn_University&output=json"
       ]
      },
      {
       "output_type": "stream",
       "stream": "stdout",
       "text": [
        "\n",
        "https://newsreader.scraperwiki.com/cars/summary_of_events_with_actor/page/16?output=json&uris.0=http%3A%2F%2Fdbpedia.org%2Fresource%2FAuburn_University"
       ]
      },
      {
       "output_type": "stream",
       "stream": "stdout",
       "text": [
        "\n",
        "https://newsreader.scraperwiki.com/cars/summary_of_events_with_actor/page/17?uris.0=http%3A%2F%2Fdbpedia.org%2Fresource%2FAuburn_University&output=json"
       ]
      },
      {
       "output_type": "stream",
       "stream": "stdout",
       "text": [
        "\n",
        "https://newsreader.scraperwiki.com/cars/summary_of_events_with_actor/page/18?output=json&uris.0=http%3A%2F%2Fdbpedia.org%2Fresource%2FAuburn_University"
       ]
      },
      {
       "output_type": "stream",
       "stream": "stdout",
       "text": [
        "\n",
        "https://newsreader.scraperwiki.com/cars/summary_of_events_with_actor/page/19?uris.0=http%3A%2F%2Fdbpedia.org%2Fresource%2FAuburn_University&output=json"
       ]
      },
      {
       "output_type": "stream",
       "stream": "stdout",
       "text": [
        "\n",
        "start"
       ]
      },
      {
       "output_type": "stream",
       "stream": "stdout",
       "text": [
        "\n",
        "http://dbpedia.org/resource/University_of_Southern_California\n",
        "https://newsreader.scraperwiki.com/cars/summary_of_events_with_actor/page/2?output=json&uris.0=http%3A%2F%2Fdbpedia.org%2Fresource%2FUniversity_of_Southern_California"
       ]
      },
      {
       "output_type": "stream",
       "stream": "stdout",
       "text": [
        "\n",
        "https://newsreader.scraperwiki.com/cars/summary_of_events_with_actor/page/3?uris.0=http%3A%2F%2Fdbpedia.org%2Fresource%2FUniversity_of_Southern_California&output=json"
       ]
      },
      {
       "output_type": "stream",
       "stream": "stdout",
       "text": [
        "\n",
        "https://newsreader.scraperwiki.com/cars/summary_of_events_with_actor/page/4?output=json&uris.0=http%3A%2F%2Fdbpedia.org%2Fresource%2FUniversity_of_Southern_California"
       ]
      },
      {
       "output_type": "stream",
       "stream": "stdout",
       "text": [
        "\n",
        "https://newsreader.scraperwiki.com/cars/summary_of_events_with_actor/page/5?uris.0=http%3A%2F%2Fdbpedia.org%2Fresource%2FUniversity_of_Southern_California&output=json"
       ]
      },
      {
       "output_type": "stream",
       "stream": "stdout",
       "text": [
        "\n",
        "https://newsreader.scraperwiki.com/cars/summary_of_events_with_actor/page/6?output=json&uris.0=http%3A%2F%2Fdbpedia.org%2Fresource%2FUniversity_of_Southern_California"
       ]
      },
      {
       "output_type": "stream",
       "stream": "stdout",
       "text": [
        "\n",
        "https://newsreader.scraperwiki.com/cars/summary_of_events_with_actor/page/7?uris.0=http%3A%2F%2Fdbpedia.org%2Fresource%2FUniversity_of_Southern_California&output=json"
       ]
      },
      {
       "output_type": "stream",
       "stream": "stdout",
       "text": [
        "\n",
        "https://newsreader.scraperwiki.com/cars/summary_of_events_with_actor/page/8?output=json&uris.0=http%3A%2F%2Fdbpedia.org%2Fresource%2FUniversity_of_Southern_California"
       ]
      },
      {
       "output_type": "stream",
       "stream": "stdout",
       "text": [
        "\n",
        "https://newsreader.scraperwiki.com/cars/summary_of_events_with_actor/page/9?uris.0=http%3A%2F%2Fdbpedia.org%2Fresource%2FUniversity_of_Southern_California&output=json"
       ]
      },
      {
       "output_type": "stream",
       "stream": "stdout",
       "text": [
        "\n",
        "https://newsreader.scraperwiki.com/cars/summary_of_events_with_actor/page/10?output=json&uris.0=http%3A%2F%2Fdbpedia.org%2Fresource%2FUniversity_of_Southern_California"
       ]
      },
      {
       "output_type": "stream",
       "stream": "stdout",
       "text": [
        "\n",
        "https://newsreader.scraperwiki.com/cars/summary_of_events_with_actor/page/11?uris.0=http%3A%2F%2Fdbpedia.org%2Fresource%2FUniversity_of_Southern_California&output=json"
       ]
      },
      {
       "output_type": "stream",
       "stream": "stdout",
       "text": [
        "\n",
        "https://newsreader.scraperwiki.com/cars/summary_of_events_with_actor/page/12?output=json&uris.0=http%3A%2F%2Fdbpedia.org%2Fresource%2FUniversity_of_Southern_California"
       ]
      },
      {
       "output_type": "stream",
       "stream": "stdout",
       "text": [
        "\n",
        "https://newsreader.scraperwiki.com/cars/summary_of_events_with_actor/page/13?uris.0=http%3A%2F%2Fdbpedia.org%2Fresource%2FUniversity_of_Southern_California&output=json"
       ]
      },
      {
       "output_type": "stream",
       "stream": "stdout",
       "text": [
        "\n",
        "https://newsreader.scraperwiki.com/cars/summary_of_events_with_actor/page/14?output=json&uris.0=http%3A%2F%2Fdbpedia.org%2Fresource%2FUniversity_of_Southern_California"
       ]
      },
      {
       "output_type": "stream",
       "stream": "stdout",
       "text": [
        "\n",
        "https://newsreader.scraperwiki.com/cars/summary_of_events_with_actor/page/15?uris.0=http%3A%2F%2Fdbpedia.org%2Fresource%2FUniversity_of_Southern_California&output=json"
       ]
      },
      {
       "output_type": "stream",
       "stream": "stdout",
       "text": [
        "\n",
        "https://newsreader.scraperwiki.com/cars/summary_of_events_with_actor/page/16?output=json&uris.0=http%3A%2F%2Fdbpedia.org%2Fresource%2FUniversity_of_Southern_California"
       ]
      },
      {
       "output_type": "stream",
       "stream": "stdout",
       "text": [
        "\n",
        "https://newsreader.scraperwiki.com/cars/summary_of_events_with_actor/page/17?uris.0=http%3A%2F%2Fdbpedia.org%2Fresource%2FUniversity_of_Southern_California&output=json"
       ]
      },
      {
       "output_type": "stream",
       "stream": "stdout",
       "text": [
        "\n",
        "https://newsreader.scraperwiki.com/cars/summary_of_events_with_actor/page/18?output=json&uris.0=http%3A%2F%2Fdbpedia.org%2Fresource%2FUniversity_of_Southern_California"
       ]
      },
      {
       "output_type": "stream",
       "stream": "stdout",
       "text": [
        "\n",
        "https://newsreader.scraperwiki.com/cars/summary_of_events_with_actor/page/19?uris.0=http%3A%2F%2Fdbpedia.org%2Fresource%2FUniversity_of_Southern_California&output=json"
       ]
      },
      {
       "output_type": "stream",
       "stream": "stdout",
       "text": [
        "\n",
        "start"
       ]
      },
      {
       "output_type": "stream",
       "stream": "stdout",
       "text": [
        "\n",
        "http://dbpedia.org/resource/Purdue_University\n",
        "https://newsreader.scraperwiki.com/cars/summary_of_events_with_actor/page/2?output=json&uris.0=http%3A%2F%2Fdbpedia.org%2Fresource%2FPurdue_University"
       ]
      },
      {
       "output_type": "stream",
       "stream": "stdout",
       "text": [
        "\n",
        "https://newsreader.scraperwiki.com/cars/summary_of_events_with_actor/page/3?uris.0=http%3A%2F%2Fdbpedia.org%2Fresource%2FPurdue_University&output=json"
       ]
      },
      {
       "output_type": "stream",
       "stream": "stdout",
       "text": [
        "\n",
        "https://newsreader.scraperwiki.com/cars/summary_of_events_with_actor/page/4?output=json&uris.0=http%3A%2F%2Fdbpedia.org%2Fresource%2FPurdue_University"
       ]
      },
      {
       "output_type": "stream",
       "stream": "stdout",
       "text": [
        "\n",
        "https://newsreader.scraperwiki.com/cars/summary_of_events_with_actor/page/5?uris.0=http%3A%2F%2Fdbpedia.org%2Fresource%2FPurdue_University&output=json"
       ]
      },
      {
       "output_type": "stream",
       "stream": "stdout",
       "text": [
        "\n",
        "https://newsreader.scraperwiki.com/cars/summary_of_events_with_actor/page/6?output=json&uris.0=http%3A%2F%2Fdbpedia.org%2Fresource%2FPurdue_University"
       ]
      },
      {
       "output_type": "stream",
       "stream": "stdout",
       "text": [
        "\n",
        "https://newsreader.scraperwiki.com/cars/summary_of_events_with_actor/page/7?uris.0=http%3A%2F%2Fdbpedia.org%2Fresource%2FPurdue_University&output=json"
       ]
      },
      {
       "output_type": "stream",
       "stream": "stdout",
       "text": [
        "\n",
        "https://newsreader.scraperwiki.com/cars/summary_of_events_with_actor/page/8?output=json&uris.0=http%3A%2F%2Fdbpedia.org%2Fresource%2FPurdue_University"
       ]
      },
      {
       "output_type": "stream",
       "stream": "stdout",
       "text": [
        "\n",
        "https://newsreader.scraperwiki.com/cars/summary_of_events_with_actor/page/9?uris.0=http%3A%2F%2Fdbpedia.org%2Fresource%2FPurdue_University&output=json"
       ]
      },
      {
       "output_type": "stream",
       "stream": "stdout",
       "text": [
        "\n",
        "https://newsreader.scraperwiki.com/cars/summary_of_events_with_actor/page/10?output=json&uris.0=http%3A%2F%2Fdbpedia.org%2Fresource%2FPurdue_University"
       ]
      },
      {
       "output_type": "stream",
       "stream": "stdout",
       "text": [
        "\n",
        "https://newsreader.scraperwiki.com/cars/summary_of_events_with_actor/page/11?uris.0=http%3A%2F%2Fdbpedia.org%2Fresource%2FPurdue_University&output=json"
       ]
      },
      {
       "output_type": "stream",
       "stream": "stdout",
       "text": [
        "\n",
        "https://newsreader.scraperwiki.com/cars/summary_of_events_with_actor/page/12?output=json&uris.0=http%3A%2F%2Fdbpedia.org%2Fresource%2FPurdue_University"
       ]
      },
      {
       "output_type": "stream",
       "stream": "stdout",
       "text": [
        "\n",
        "https://newsreader.scraperwiki.com/cars/summary_of_events_with_actor/page/13?uris.0=http%3A%2F%2Fdbpedia.org%2Fresource%2FPurdue_University&output=json"
       ]
      },
      {
       "output_type": "stream",
       "stream": "stdout",
       "text": [
        "\n",
        "https://newsreader.scraperwiki.com/cars/summary_of_events_with_actor/page/14?output=json&uris.0=http%3A%2F%2Fdbpedia.org%2Fresource%2FPurdue_University"
       ]
      },
      {
       "output_type": "stream",
       "stream": "stdout",
       "text": [
        "\n",
        "https://newsreader.scraperwiki.com/cars/summary_of_events_with_actor/page/15?uris.0=http%3A%2F%2Fdbpedia.org%2Fresource%2FPurdue_University&output=json"
       ]
      },
      {
       "output_type": "stream",
       "stream": "stdout",
       "text": [
        "\n",
        "https://newsreader.scraperwiki.com/cars/summary_of_events_with_actor/page/16?output=json&uris.0=http%3A%2F%2Fdbpedia.org%2Fresource%2FPurdue_University"
       ]
      },
      {
       "output_type": "stream",
       "stream": "stdout",
       "text": [
        "\n",
        "start"
       ]
      },
      {
       "output_type": "stream",
       "stream": "stdout",
       "text": [
        "\n",
        "http://dbpedia.org/resource/University_of_Nebraska\u2013Lincoln\n"
       ]
      },
      {
       "ename": "UnicodeEncodeError",
       "evalue": "'ascii' codec can't encode character u'\\u2013' in position 91: ordinal not in range(128)",
       "output_type": "pyerr",
       "traceback": [
        "\u001b[0;31m---------------------------------------------------------------------------\u001b[0m\n\u001b[0;31mUnicodeEncodeError\u001b[0m                        Traceback (most recent call last)",
        "\u001b[0;32m<ipython-input-52-eb8b10bfe4f0>\u001b[0m in \u001b[0;36m<module>\u001b[0;34m()\u001b[0m\n\u001b[1;32m     10\u001b[0m     \u001b[0murl\u001b[0m \u001b[0;34m=\u001b[0m \u001b[0;34m'https://newsreader.scraperwiki.com/summary_of_events_with_actor?uris.0='\u001b[0m \u001b[0;34m+\u001b[0m \u001b[0mactor\u001b[0m \u001b[0;34m+\u001b[0m \u001b[0;34m'&output=json'\u001b[0m\u001b[0;34m\u001b[0m\u001b[0m\n\u001b[1;32m     11\u001b[0m     \u001b[0;32mwhile\u001b[0m \u001b[0murl\u001b[0m\u001b[0;34m:\u001b[0m\u001b[0;34m\u001b[0m\u001b[0m\n\u001b[0;32m---> 12\u001b[0;31m         \u001b[0mres\u001b[0m \u001b[0;34m=\u001b[0m \u001b[0mjson\u001b[0m\u001b[0;34m.\u001b[0m\u001b[0mload\u001b[0m\u001b[0;34m(\u001b[0m\u001b[0murllib2\u001b[0m\u001b[0;34m.\u001b[0m\u001b[0murlopen\u001b[0m\u001b[0;34m(\u001b[0m\u001b[0murl\u001b[0m\u001b[0;34m)\u001b[0m\u001b[0;34m)\u001b[0m\u001b[0;34m\u001b[0m\u001b[0m\n\u001b[0m\u001b[1;32m     13\u001b[0m         \u001b[0;31m#print res\u001b[0m\u001b[0;34m\u001b[0m\u001b[0;34m\u001b[0m\u001b[0m\n\u001b[1;32m     14\u001b[0m         \u001b[0;32mif\u001b[0m \u001b[0;34m'next page'\u001b[0m \u001b[0;32min\u001b[0m \u001b[0mres\u001b[0m\u001b[0;34m:\u001b[0m\u001b[0;34m\u001b[0m\u001b[0m\n",
        "\u001b[0;32m/System/Library/Frameworks/Python.framework/Versions/2.7/lib/python2.7/urllib2.pyc\u001b[0m in \u001b[0;36murlopen\u001b[0;34m(url, data, timeout)\u001b[0m\n\u001b[1;32m    125\u001b[0m     \u001b[0;32mif\u001b[0m \u001b[0m_opener\u001b[0m \u001b[0;32mis\u001b[0m \u001b[0mNone\u001b[0m\u001b[0;34m:\u001b[0m\u001b[0;34m\u001b[0m\u001b[0m\n\u001b[1;32m    126\u001b[0m         \u001b[0m_opener\u001b[0m \u001b[0;34m=\u001b[0m \u001b[0mbuild_opener\u001b[0m\u001b[0;34m(\u001b[0m\u001b[0;34m)\u001b[0m\u001b[0;34m\u001b[0m\u001b[0m\n\u001b[0;32m--> 127\u001b[0;31m     \u001b[0;32mreturn\u001b[0m \u001b[0m_opener\u001b[0m\u001b[0;34m.\u001b[0m\u001b[0mopen\u001b[0m\u001b[0;34m(\u001b[0m\u001b[0murl\u001b[0m\u001b[0;34m,\u001b[0m \u001b[0mdata\u001b[0m\u001b[0;34m,\u001b[0m \u001b[0mtimeout\u001b[0m\u001b[0;34m)\u001b[0m\u001b[0;34m\u001b[0m\u001b[0m\n\u001b[0m\u001b[1;32m    128\u001b[0m \u001b[0;34m\u001b[0m\u001b[0m\n\u001b[1;32m    129\u001b[0m \u001b[0;32mdef\u001b[0m \u001b[0minstall_opener\u001b[0m\u001b[0;34m(\u001b[0m\u001b[0mopener\u001b[0m\u001b[0;34m)\u001b[0m\u001b[0;34m:\u001b[0m\u001b[0;34m\u001b[0m\u001b[0m\n",
        "\u001b[0;32m/System/Library/Frameworks/Python.framework/Versions/2.7/lib/python2.7/urllib2.pyc\u001b[0m in \u001b[0;36mopen\u001b[0;34m(self, fullurl, data, timeout)\u001b[0m\n\u001b[1;32m    402\u001b[0m             \u001b[0mreq\u001b[0m \u001b[0;34m=\u001b[0m \u001b[0mmeth\u001b[0m\u001b[0;34m(\u001b[0m\u001b[0mreq\u001b[0m\u001b[0;34m)\u001b[0m\u001b[0;34m\u001b[0m\u001b[0m\n\u001b[1;32m    403\u001b[0m \u001b[0;34m\u001b[0m\u001b[0m\n\u001b[0;32m--> 404\u001b[0;31m         \u001b[0mresponse\u001b[0m \u001b[0;34m=\u001b[0m \u001b[0mself\u001b[0m\u001b[0;34m.\u001b[0m\u001b[0m_open\u001b[0m\u001b[0;34m(\u001b[0m\u001b[0mreq\u001b[0m\u001b[0;34m,\u001b[0m \u001b[0mdata\u001b[0m\u001b[0;34m)\u001b[0m\u001b[0;34m\u001b[0m\u001b[0m\n\u001b[0m\u001b[1;32m    405\u001b[0m \u001b[0;34m\u001b[0m\u001b[0m\n\u001b[1;32m    406\u001b[0m         \u001b[0;31m# post-process response\u001b[0m\u001b[0;34m\u001b[0m\u001b[0;34m\u001b[0m\u001b[0m\n",
        "\u001b[0;32m/System/Library/Frameworks/Python.framework/Versions/2.7/lib/python2.7/urllib2.pyc\u001b[0m in \u001b[0;36m_open\u001b[0;34m(self, req, data)\u001b[0m\n\u001b[1;32m    420\u001b[0m         \u001b[0mprotocol\u001b[0m \u001b[0;34m=\u001b[0m \u001b[0mreq\u001b[0m\u001b[0;34m.\u001b[0m\u001b[0mget_type\u001b[0m\u001b[0;34m(\u001b[0m\u001b[0;34m)\u001b[0m\u001b[0;34m\u001b[0m\u001b[0m\n\u001b[1;32m    421\u001b[0m         result = self._call_chain(self.handle_open, protocol, protocol +\n\u001b[0;32m--> 422\u001b[0;31m                                   '_open', req)\n\u001b[0m\u001b[1;32m    423\u001b[0m         \u001b[0;32mif\u001b[0m \u001b[0mresult\u001b[0m\u001b[0;34m:\u001b[0m\u001b[0;34m\u001b[0m\u001b[0m\n\u001b[1;32m    424\u001b[0m             \u001b[0;32mreturn\u001b[0m \u001b[0mresult\u001b[0m\u001b[0;34m\u001b[0m\u001b[0m\n",
        "\u001b[0;32m/System/Library/Frameworks/Python.framework/Versions/2.7/lib/python2.7/urllib2.pyc\u001b[0m in \u001b[0;36m_call_chain\u001b[0;34m(self, chain, kind, meth_name, *args)\u001b[0m\n\u001b[1;32m    380\u001b[0m             \u001b[0mfunc\u001b[0m \u001b[0;34m=\u001b[0m \u001b[0mgetattr\u001b[0m\u001b[0;34m(\u001b[0m\u001b[0mhandler\u001b[0m\u001b[0;34m,\u001b[0m \u001b[0mmeth_name\u001b[0m\u001b[0;34m)\u001b[0m\u001b[0;34m\u001b[0m\u001b[0m\n\u001b[1;32m    381\u001b[0m \u001b[0;34m\u001b[0m\u001b[0m\n\u001b[0;32m--> 382\u001b[0;31m             \u001b[0mresult\u001b[0m \u001b[0;34m=\u001b[0m \u001b[0mfunc\u001b[0m\u001b[0;34m(\u001b[0m\u001b[0;34m*\u001b[0m\u001b[0margs\u001b[0m\u001b[0;34m)\u001b[0m\u001b[0;34m\u001b[0m\u001b[0m\n\u001b[0m\u001b[1;32m    383\u001b[0m             \u001b[0;32mif\u001b[0m \u001b[0mresult\u001b[0m \u001b[0;32mis\u001b[0m \u001b[0;32mnot\u001b[0m \u001b[0mNone\u001b[0m\u001b[0;34m:\u001b[0m\u001b[0;34m\u001b[0m\u001b[0m\n\u001b[1;32m    384\u001b[0m                 \u001b[0;32mreturn\u001b[0m \u001b[0mresult\u001b[0m\u001b[0;34m\u001b[0m\u001b[0m\n",
        "\u001b[0;32m/System/Library/Frameworks/Python.framework/Versions/2.7/lib/python2.7/urllib2.pyc\u001b[0m in \u001b[0;36mhttps_open\u001b[0;34m(self, req)\u001b[0m\n\u001b[1;32m   1220\u001b[0m \u001b[0;34m\u001b[0m\u001b[0m\n\u001b[1;32m   1221\u001b[0m         \u001b[0;32mdef\u001b[0m \u001b[0mhttps_open\u001b[0m\u001b[0;34m(\u001b[0m\u001b[0mself\u001b[0m\u001b[0;34m,\u001b[0m \u001b[0mreq\u001b[0m\u001b[0;34m)\u001b[0m\u001b[0;34m:\u001b[0m\u001b[0;34m\u001b[0m\u001b[0m\n\u001b[0;32m-> 1222\u001b[0;31m             \u001b[0;32mreturn\u001b[0m \u001b[0mself\u001b[0m\u001b[0;34m.\u001b[0m\u001b[0mdo_open\u001b[0m\u001b[0;34m(\u001b[0m\u001b[0mhttplib\u001b[0m\u001b[0;34m.\u001b[0m\u001b[0mHTTPSConnection\u001b[0m\u001b[0;34m,\u001b[0m \u001b[0mreq\u001b[0m\u001b[0;34m)\u001b[0m\u001b[0;34m\u001b[0m\u001b[0m\n\u001b[0m\u001b[1;32m   1223\u001b[0m \u001b[0;34m\u001b[0m\u001b[0m\n\u001b[1;32m   1224\u001b[0m         \u001b[0mhttps_request\u001b[0m \u001b[0;34m=\u001b[0m \u001b[0mAbstractHTTPHandler\u001b[0m\u001b[0;34m.\u001b[0m\u001b[0mdo_request_\u001b[0m\u001b[0;34m\u001b[0m\u001b[0m\n",
        "\u001b[0;32m/System/Library/Frameworks/Python.framework/Versions/2.7/lib/python2.7/urllib2.pyc\u001b[0m in \u001b[0;36mdo_open\u001b[0;34m(self, http_class, req)\u001b[0m\n\u001b[1;32m   1179\u001b[0m \u001b[0;34m\u001b[0m\u001b[0m\n\u001b[1;32m   1180\u001b[0m         \u001b[0;32mtry\u001b[0m\u001b[0;34m:\u001b[0m\u001b[0;34m\u001b[0m\u001b[0m\n\u001b[0;32m-> 1181\u001b[0;31m             \u001b[0mh\u001b[0m\u001b[0;34m.\u001b[0m\u001b[0mrequest\u001b[0m\u001b[0;34m(\u001b[0m\u001b[0mreq\u001b[0m\u001b[0;34m.\u001b[0m\u001b[0mget_method\u001b[0m\u001b[0;34m(\u001b[0m\u001b[0;34m)\u001b[0m\u001b[0;34m,\u001b[0m \u001b[0mreq\u001b[0m\u001b[0;34m.\u001b[0m\u001b[0mget_selector\u001b[0m\u001b[0;34m(\u001b[0m\u001b[0;34m)\u001b[0m\u001b[0;34m,\u001b[0m \u001b[0mreq\u001b[0m\u001b[0;34m.\u001b[0m\u001b[0mdata\u001b[0m\u001b[0;34m,\u001b[0m \u001b[0mheaders\u001b[0m\u001b[0;34m)\u001b[0m\u001b[0;34m\u001b[0m\u001b[0m\n\u001b[0m\u001b[1;32m   1182\u001b[0m         \u001b[0;32mexcept\u001b[0m \u001b[0msocket\u001b[0m\u001b[0;34m.\u001b[0m\u001b[0merror\u001b[0m\u001b[0;34m,\u001b[0m \u001b[0merr\u001b[0m\u001b[0;34m:\u001b[0m \u001b[0;31m# XXX what error?\u001b[0m\u001b[0;34m\u001b[0m\u001b[0m\n\u001b[1;32m   1183\u001b[0m             \u001b[0mh\u001b[0m\u001b[0;34m.\u001b[0m\u001b[0mclose\u001b[0m\u001b[0;34m(\u001b[0m\u001b[0;34m)\u001b[0m\u001b[0;34m\u001b[0m\u001b[0m\n",
        "\u001b[0;32m/System/Library/Frameworks/Python.framework/Versions/2.7/lib/python2.7/httplib.pyc\u001b[0m in \u001b[0;36mrequest\u001b[0;34m(self, method, url, body, headers)\u001b[0m\n\u001b[1;32m    971\u001b[0m     \u001b[0;32mdef\u001b[0m \u001b[0mrequest\u001b[0m\u001b[0;34m(\u001b[0m\u001b[0mself\u001b[0m\u001b[0;34m,\u001b[0m \u001b[0mmethod\u001b[0m\u001b[0;34m,\u001b[0m \u001b[0murl\u001b[0m\u001b[0;34m,\u001b[0m \u001b[0mbody\u001b[0m\u001b[0;34m=\u001b[0m\u001b[0mNone\u001b[0m\u001b[0;34m,\u001b[0m \u001b[0mheaders\u001b[0m\u001b[0;34m=\u001b[0m\u001b[0;34m{\u001b[0m\u001b[0;34m}\u001b[0m\u001b[0;34m)\u001b[0m\u001b[0;34m:\u001b[0m\u001b[0;34m\u001b[0m\u001b[0m\n\u001b[1;32m    972\u001b[0m         \u001b[0;34m\"\"\"Send a complete request to the server.\"\"\"\u001b[0m\u001b[0;34m\u001b[0m\u001b[0m\n\u001b[0;32m--> 973\u001b[0;31m         \u001b[0mself\u001b[0m\u001b[0;34m.\u001b[0m\u001b[0m_send_request\u001b[0m\u001b[0;34m(\u001b[0m\u001b[0mmethod\u001b[0m\u001b[0;34m,\u001b[0m \u001b[0murl\u001b[0m\u001b[0;34m,\u001b[0m \u001b[0mbody\u001b[0m\u001b[0;34m,\u001b[0m \u001b[0mheaders\u001b[0m\u001b[0;34m)\u001b[0m\u001b[0;34m\u001b[0m\u001b[0m\n\u001b[0m\u001b[1;32m    974\u001b[0m \u001b[0;34m\u001b[0m\u001b[0m\n\u001b[1;32m    975\u001b[0m     \u001b[0;32mdef\u001b[0m \u001b[0m_set_content_length\u001b[0m\u001b[0;34m(\u001b[0m\u001b[0mself\u001b[0m\u001b[0;34m,\u001b[0m \u001b[0mbody\u001b[0m\u001b[0;34m)\u001b[0m\u001b[0;34m:\u001b[0m\u001b[0;34m\u001b[0m\u001b[0m\n",
        "\u001b[0;32m/System/Library/Frameworks/Python.framework/Versions/2.7/lib/python2.7/httplib.pyc\u001b[0m in \u001b[0;36m_send_request\u001b[0;34m(self, method, url, body, headers)\u001b[0m\n\u001b[1;32m   1005\u001b[0m         \u001b[0;32mfor\u001b[0m \u001b[0mhdr\u001b[0m\u001b[0;34m,\u001b[0m \u001b[0mvalue\u001b[0m \u001b[0;32min\u001b[0m \u001b[0mheaders\u001b[0m\u001b[0;34m.\u001b[0m\u001b[0miteritems\u001b[0m\u001b[0;34m(\u001b[0m\u001b[0;34m)\u001b[0m\u001b[0;34m:\u001b[0m\u001b[0;34m\u001b[0m\u001b[0m\n\u001b[1;32m   1006\u001b[0m             \u001b[0mself\u001b[0m\u001b[0;34m.\u001b[0m\u001b[0mputheader\u001b[0m\u001b[0;34m(\u001b[0m\u001b[0mhdr\u001b[0m\u001b[0;34m,\u001b[0m \u001b[0mvalue\u001b[0m\u001b[0;34m)\u001b[0m\u001b[0;34m\u001b[0m\u001b[0m\n\u001b[0;32m-> 1007\u001b[0;31m         \u001b[0mself\u001b[0m\u001b[0;34m.\u001b[0m\u001b[0mendheaders\u001b[0m\u001b[0;34m(\u001b[0m\u001b[0mbody\u001b[0m\u001b[0;34m)\u001b[0m\u001b[0;34m\u001b[0m\u001b[0m\n\u001b[0m\u001b[1;32m   1008\u001b[0m \u001b[0;34m\u001b[0m\u001b[0m\n\u001b[1;32m   1009\u001b[0m     \u001b[0;32mdef\u001b[0m \u001b[0mgetresponse\u001b[0m\u001b[0;34m(\u001b[0m\u001b[0mself\u001b[0m\u001b[0;34m,\u001b[0m \u001b[0mbuffering\u001b[0m\u001b[0;34m=\u001b[0m\u001b[0mFalse\u001b[0m\u001b[0;34m)\u001b[0m\u001b[0;34m:\u001b[0m\u001b[0;34m\u001b[0m\u001b[0m\n",
        "\u001b[0;32m/System/Library/Frameworks/Python.framework/Versions/2.7/lib/python2.7/httplib.pyc\u001b[0m in \u001b[0;36mendheaders\u001b[0;34m(self, message_body)\u001b[0m\n\u001b[1;32m    967\u001b[0m         \u001b[0;32melse\u001b[0m\u001b[0;34m:\u001b[0m\u001b[0;34m\u001b[0m\u001b[0m\n\u001b[1;32m    968\u001b[0m             \u001b[0;32mraise\u001b[0m \u001b[0mCannotSendHeader\u001b[0m\u001b[0;34m(\u001b[0m\u001b[0;34m)\u001b[0m\u001b[0;34m\u001b[0m\u001b[0m\n\u001b[0;32m--> 969\u001b[0;31m         \u001b[0mself\u001b[0m\u001b[0;34m.\u001b[0m\u001b[0m_send_output\u001b[0m\u001b[0;34m(\u001b[0m\u001b[0mmessage_body\u001b[0m\u001b[0;34m)\u001b[0m\u001b[0;34m\u001b[0m\u001b[0m\n\u001b[0m\u001b[1;32m    970\u001b[0m \u001b[0;34m\u001b[0m\u001b[0m\n\u001b[1;32m    971\u001b[0m     \u001b[0;32mdef\u001b[0m \u001b[0mrequest\u001b[0m\u001b[0;34m(\u001b[0m\u001b[0mself\u001b[0m\u001b[0;34m,\u001b[0m \u001b[0mmethod\u001b[0m\u001b[0;34m,\u001b[0m \u001b[0murl\u001b[0m\u001b[0;34m,\u001b[0m \u001b[0mbody\u001b[0m\u001b[0;34m=\u001b[0m\u001b[0mNone\u001b[0m\u001b[0;34m,\u001b[0m \u001b[0mheaders\u001b[0m\u001b[0;34m=\u001b[0m\u001b[0;34m{\u001b[0m\u001b[0;34m}\u001b[0m\u001b[0;34m)\u001b[0m\u001b[0;34m:\u001b[0m\u001b[0;34m\u001b[0m\u001b[0m\n",
        "\u001b[0;32m/System/Library/Frameworks/Python.framework/Versions/2.7/lib/python2.7/httplib.pyc\u001b[0m in \u001b[0;36m_send_output\u001b[0;34m(self, message_body)\u001b[0m\n\u001b[1;32m    827\u001b[0m             \u001b[0mmsg\u001b[0m \u001b[0;34m+=\u001b[0m \u001b[0mmessage_body\u001b[0m\u001b[0;34m\u001b[0m\u001b[0m\n\u001b[1;32m    828\u001b[0m             \u001b[0mmessage_body\u001b[0m \u001b[0;34m=\u001b[0m \u001b[0mNone\u001b[0m\u001b[0;34m\u001b[0m\u001b[0m\n\u001b[0;32m--> 829\u001b[0;31m         \u001b[0mself\u001b[0m\u001b[0;34m.\u001b[0m\u001b[0msend\u001b[0m\u001b[0;34m(\u001b[0m\u001b[0mmsg\u001b[0m\u001b[0;34m)\u001b[0m\u001b[0;34m\u001b[0m\u001b[0m\n\u001b[0m\u001b[1;32m    830\u001b[0m         \u001b[0;32mif\u001b[0m \u001b[0mmessage_body\u001b[0m \u001b[0;32mis\u001b[0m \u001b[0;32mnot\u001b[0m \u001b[0mNone\u001b[0m\u001b[0;34m:\u001b[0m\u001b[0;34m\u001b[0m\u001b[0m\n\u001b[1;32m    831\u001b[0m             \u001b[0;31m#message_body was not a string (i.e. it is a file) and\u001b[0m\u001b[0;34m\u001b[0m\u001b[0;34m\u001b[0m\u001b[0m\n",
        "\u001b[0;32m/System/Library/Frameworks/Python.framework/Versions/2.7/lib/python2.7/httplib.pyc\u001b[0m in \u001b[0;36msend\u001b[0;34m(self, data)\u001b[0m\n\u001b[1;32m    803\u001b[0m                 \u001b[0mdatablock\u001b[0m \u001b[0;34m=\u001b[0m \u001b[0mdata\u001b[0m\u001b[0;34m.\u001b[0m\u001b[0mread\u001b[0m\u001b[0;34m(\u001b[0m\u001b[0mblocksize\u001b[0m\u001b[0;34m)\u001b[0m\u001b[0;34m\u001b[0m\u001b[0m\n\u001b[1;32m    804\u001b[0m         \u001b[0;32melse\u001b[0m\u001b[0;34m:\u001b[0m\u001b[0;34m\u001b[0m\u001b[0m\n\u001b[0;32m--> 805\u001b[0;31m             \u001b[0mself\u001b[0m\u001b[0;34m.\u001b[0m\u001b[0msock\u001b[0m\u001b[0;34m.\u001b[0m\u001b[0msendall\u001b[0m\u001b[0;34m(\u001b[0m\u001b[0mdata\u001b[0m\u001b[0;34m)\u001b[0m\u001b[0;34m\u001b[0m\u001b[0m\n\u001b[0m\u001b[1;32m    806\u001b[0m \u001b[0;34m\u001b[0m\u001b[0m\n\u001b[1;32m    807\u001b[0m     \u001b[0;32mdef\u001b[0m \u001b[0m_output\u001b[0m\u001b[0;34m(\u001b[0m\u001b[0mself\u001b[0m\u001b[0;34m,\u001b[0m \u001b[0ms\u001b[0m\u001b[0;34m)\u001b[0m\u001b[0;34m:\u001b[0m\u001b[0;34m\u001b[0m\u001b[0m\n",
        "\u001b[0;32m/System/Library/Frameworks/Python.framework/Versions/2.7/lib/python2.7/ssl.pyc\u001b[0m in \u001b[0;36msendall\u001b[0;34m(self, data, flags)\u001b[0m\n\u001b[1;32m    227\u001b[0m             \u001b[0mcount\u001b[0m \u001b[0;34m=\u001b[0m \u001b[0;36m0\u001b[0m\u001b[0;34m\u001b[0m\u001b[0m\n\u001b[1;32m    228\u001b[0m             \u001b[0;32mwhile\u001b[0m \u001b[0;34m(\u001b[0m\u001b[0mcount\u001b[0m \u001b[0;34m<\u001b[0m \u001b[0mamount\u001b[0m\u001b[0;34m)\u001b[0m\u001b[0;34m:\u001b[0m\u001b[0;34m\u001b[0m\u001b[0m\n\u001b[0;32m--> 229\u001b[0;31m                 \u001b[0mv\u001b[0m \u001b[0;34m=\u001b[0m \u001b[0mself\u001b[0m\u001b[0;34m.\u001b[0m\u001b[0msend\u001b[0m\u001b[0;34m(\u001b[0m\u001b[0mdata\u001b[0m\u001b[0;34m[\u001b[0m\u001b[0mcount\u001b[0m\u001b[0;34m:\u001b[0m\u001b[0;34m]\u001b[0m\u001b[0;34m)\u001b[0m\u001b[0;34m\u001b[0m\u001b[0m\n\u001b[0m\u001b[1;32m    230\u001b[0m                 \u001b[0mcount\u001b[0m \u001b[0;34m+=\u001b[0m \u001b[0mv\u001b[0m\u001b[0;34m\u001b[0m\u001b[0m\n\u001b[1;32m    231\u001b[0m             \u001b[0;32mreturn\u001b[0m \u001b[0mamount\u001b[0m\u001b[0;34m\u001b[0m\u001b[0m\n",
        "\u001b[0;32m/System/Library/Frameworks/Python.framework/Versions/2.7/lib/python2.7/ssl.pyc\u001b[0m in \u001b[0;36msend\u001b[0;34m(self, data, flags)\u001b[0m\n\u001b[1;32m    196\u001b[0m             \u001b[0;32mwhile\u001b[0m \u001b[0mTrue\u001b[0m\u001b[0;34m:\u001b[0m\u001b[0;34m\u001b[0m\u001b[0m\n\u001b[1;32m    197\u001b[0m                 \u001b[0;32mtry\u001b[0m\u001b[0;34m:\u001b[0m\u001b[0;34m\u001b[0m\u001b[0m\n\u001b[0;32m--> 198\u001b[0;31m                     \u001b[0mv\u001b[0m \u001b[0;34m=\u001b[0m \u001b[0mself\u001b[0m\u001b[0;34m.\u001b[0m\u001b[0m_sslobj\u001b[0m\u001b[0;34m.\u001b[0m\u001b[0mwrite\u001b[0m\u001b[0;34m(\u001b[0m\u001b[0mdata\u001b[0m\u001b[0;34m)\u001b[0m\u001b[0;34m\u001b[0m\u001b[0m\n\u001b[0m\u001b[1;32m    199\u001b[0m                 \u001b[0;32mexcept\u001b[0m \u001b[0mSSLError\u001b[0m\u001b[0;34m,\u001b[0m \u001b[0mx\u001b[0m\u001b[0;34m:\u001b[0m\u001b[0;34m\u001b[0m\u001b[0m\n\u001b[1;32m    200\u001b[0m                     \u001b[0;32mif\u001b[0m \u001b[0mx\u001b[0m\u001b[0;34m.\u001b[0m\u001b[0margs\u001b[0m\u001b[0;34m[\u001b[0m\u001b[0;36m0\u001b[0m\u001b[0;34m]\u001b[0m \u001b[0;34m==\u001b[0m \u001b[0mSSL_ERROR_WANT_READ\u001b[0m\u001b[0;34m:\u001b[0m\u001b[0;34m\u001b[0m\u001b[0m\n",
        "\u001b[0;31mUnicodeEncodeError\u001b[0m: 'ascii' codec can't encode character u'\\u2013' in position 91: ordinal not in range(128)"
       ]
      }
     ],
     "prompt_number": 52
    },
    {
     "cell_type": "code",
     "collapsed": false,
     "input": [
      "print actorToLabels"
     ],
     "language": "python",
     "metadata": {},
     "outputs": [
      {
       "output_type": "stream",
       "stream": "stdout",
       "text": [
        "{u'http://dbpedia.org/resource/Texas_Tech_University_System': defaultdict(None, {u'perspective': 1, u'authorize': 3, u'help': 1, u'ratify': 1, u'consent': 1, u'retire': 1, u'bring': 3, u'Chairman': 13, u'committee': 1, u'follow': 2, u'alternative': 1, u'staff': 1, u'hold': 4, u'application': 1, u'claude': 1, u'measure': 1, u'removal': 1, u'add': 3, u'board': 4, u'factor': 1, u'announce': 1, u'chairman': 3, u're-appoint': 1, u'appointment': 12, u'get': 2, u'enrich': 1, u'slate': 1, u'outlet': 1, u'govern': 1, u'independentmembers': 1, u'name': 1, u'term': 1, u're-elect': 2, u'remove': 1, u'officer': 1, u'nominate': 1, u'release': 1, u'enhance': 2, u'view': 2, u'set': 1, u'seat': 30, u'election': 7, u'respect': 1, u'vacate': 1, u'close': 1, u'chair': 1, u'category': 1, u'represent': 1, u'lead': 1, u'confirm': 1, u'please': 3, u'increase': 2, u'discretion': 3, u'eliminate': 2, u'issue': 3, u'body': 1, u'welcome': 3, u'run': 1, u'extend': 2, u'opening': 1, u'team': 2, u'expansion': 1, u'like': 2, u'step': 1, u'expire': 1, u'struggle': 1, u'advisor': 1, u'put': 2, u'dividend': 4, u'standard': 1, u'change': 2, u'improve': 1, u'convert': 1, u'receive': 1, u'study': 1, u'renew': 1, u'place': 1, u'stand': 1, u'act': 1, u'action': 1, u'retain': 1, u'contribution': 1, u'adorn': 1, u'maker': 1, u'duty': 1, u'elect': 14, u'secure': 1, u'supply': 1, u'year': 1, u'appoints': 1, u'Member': 1, u'Board': 110, u'president': 2, u'vote': 2, u'table': 1, u'consider': 1, u'select': 1, u'Appointment': 1, u'proceed': 2, u'service': 2, u'become': 1, u'addition': 1, u'supervise': 1, u'visit': 1, u'Treasurer': 1, u'submit': 3, u'live': 2, u'convention': 1, u'Vice-Chairman': 1, u'authorization': 1, u'relinquish': 1, u'direction': 1, u'option': 1, u'offer': 3, u'club': 1, u'tool': 2, u'serve': 10, u'search': 1, u'flag': 1, u'representative': 3, u'sign': 2, u'appointee': 1, u'behalf': 5, u'hire': 1, u'join': 9, u'consist': 3, u'amend': 1, u'meeting': 11, u'work': 3, u'aim': 1, u'oversee': 1, u'compensation': 1, u'light': 1, u'meet': 3, u'result': 1, u'Retirement': 1, u'give': 3, u'process': 1, u'contribute': 1, u'restructure': 1, u'accept': 3, u'involve': 1, u'deem': 1, u'partner': 1, u'fill': 4, u'strength': 1, u'sit': 2, u'provide': 6, u'pay': 1, u'make': 4, u'member': 41, u'majority': 1, u'emphasis': 1, u'take': 4, u'resignation': 2, u'composition': 1, u'minority': 1, u're-election': 1, u'refusal': 1, u'resign': 3, u'director': 1, u'membership': 1, u'shareholder': 1, u'letter': 1, u'position': 5, u'date': 1, u'build': 1, u'expand': 3, u'appoint': 13, u'purchase': 3, u'invest': 2, u'grant': 2, u'cover': 1, u'directors': 1, u'contact': 1, u'allow': 1, u'Election': 1, u'withdraw': 1, u'tenure': 1, u'representation': 1, u'operate': 1, u'discussion': 1}), u'http://dbpedia.org/resource/Pennsylvania_State_University': defaultdict(None, {u'coach': 4, u'consider': 1, u'office': 2, u'athletic': 1, u'executive': 1, u'obtain': 3, u'rest': 1, u'bring': 4, u'manager': 5, u'love': 1, u'graduate': 20, u'help': 2, u'access': 1, u'justice': 1, u'send': 1, u'tie': 1, u'environment': 1, u'charge': 1, u'program': 9, u'location': 1, u'employee': 1, u'scholar': 1, u'build': 3, u'move': 4, u'return': 2, u'member': 2, u'get': 2, u'assistant': 1, u'rise': 1, u'bear': 1, u'unveil': 1, u'commemorate': 1, u'test': 1, u'game': 10, u'boost': 1, u'fan': 5, u'decide': 1, u'fall': 1, u'ticket': 2, u'induct': 1, u'tickets': 1, u'loss': 1, u'earn': 8, u'appeal': 1, u'towel': 1, u'like': 1, u'gift': 1, u'edit': 1, u'approach': 1, u'professorship': 1, u'merge': 1, u'race': 1, u'follow': 1, u'architecture': 1, u'team': 1, u'release': 4, u'involvement': 1, u'grab': 1, u'status': 1, u'set': 1, u'art': 1, u'alumnus': 1, u'deal': 3, u'plant': 1, u'seat': 2, u'administrator': 2, u'cost': 1, u'result': 2, u're-install': 1, u'trombone': 1, u'home': 1, u'project': 1, u'alums': 2, u'termination': 1, u'lead': 1, u'confirm': 1, u'assistance': 1, u'publish': 2, u'tend': 1, u'spokesman': 1, u'trustees': 1, u'curriculum': 1, u'conduct': 3, u'affiliate': 1, u'staff': 1, u'issue': 4, u'price': 1, u'common': 1, u'specialist': 1, u'degree': 2, u'exchange': 1, u'marketing': 1, u'million': 1, u'ticketholders': 1, u'job': 1, u'imaging': 1, u'key': 1, u'headline': 1, u'put': 1, u'teach': 1, u'come': 1, u'enrol': 2, u'change': 3, u'improve': 1, u'advance': 1, u'search': 1, u'no ticket': 1, u'auction': 1, u'shift': 1, u'study': 1, u'firing': 1, u'graduation': 1, u'dissolve': 1, u'turn': 2, u'connection': 1, u'feis': 1, u'place': 1, u'fraternity': 1, u'retain': 1, u'star': 1, u'honor': 1, u'authorize': 1, u'tone': 1, u'student': 12, u'researcher': 6, u'community': 3, u'recognize': 1, u'production': 1, u'semester': 1, u'initiative': 2, u'rink': 1, u'lieu': 1, u'vote': 2, u'dean': 2, u'message': 1, u'poll': 1, u'unit': 1, u'raise': 3, u'become': 1, u'addition': 1, u'transfer': 2, u'create': 1, u'B.S.': 1, u'partnership': 2, u'add': 1, u'resell': 1, u'process': 1, u'spread': 1, u'master': 1, u'convention': 1, u'meeting': 1, u'cite': 1, u'board': 4, u'buy': 1, u'Center': 1, u'name': 1, u'offer': 1, u'tool': 1, u'acre': 1, u'serve': 2, u'direct': 1, u'economic': 1, u'part': 5, u'link': 1, u'stick': 1, u'catch': 1, u'line': 1, u'hold': 2, u'junior': 2, u'jump': 1, u'join': 2, u'player': 3, u'science': 2, u'challenge': 1, u'work': 5, u'engineering': 2, u'spokeswoman': 2, u'receive': 5, u'future': 1, u'College': 3, u'property': 1, u'scramble': 1, u'history': 1, u'streak': 1, u'supervisor': 1, u'runner': 1, u'attribute': 1, u'contribute': 1, u'share': 2, u'accept': 1, u'fellow': 1, u'involve': 1, u'coordinator': 1, u'provost': 1, u'have': 2, u'arise': 1, u'partner': 2, u'seem': 1, u'pit': 1, u'campus': 9, u'trustee': 3, u'founding': 1, u'develop': 1, u'provide': 2, u'make': 2, u'government': 1, u'administration': 2, u'check': 1, u'write': 1, u'field': 2, u'emphasis': 1, u'take': 5, u'option': 1, u'department': 4, u'party': 1, u'native': 1, u'development': 1, u'play': 4, u'finish': 1, u'GRIT': 1, u'attend': 3, u'collaboration': 2, u'unleash': 1, u'effect': 1, u'stay': 2, u'director': 18, u'chance': 1, u'letter': 1, u'faculty': 3, u'president': 12, u'grow': 1, u'physic': 1, u'pull': 1, u'break': 1, u'voting': 1, u'rationalize': 1, u'professor': 9, u'camp': 1, u'drive': 2, u'vaulter': 1, u'switch': 1, u'contact': 1, u'enter': 1, u'push': 1, u'position': 1, u'operate': 1}), u'http://dbpedia.org/resource/Harvard_University': defaultdict(None, {u'conversation': 1, u'percent': 1, u'leftist': 1, u'move': 1, u'skit': 1, u'course': 2, u'manager': 2, u'scientist': 1, u'identify': 1, u'J.D.': 1, u'follow': 6, u'vocation': 1, u'economist': 1, u'make': 1, u'write': 2, u'death': 1, u'buddy': 1, u'employer': 1, u'program': 1, u'geologist': 1, u'win': 1, u'policy': 1, u'swim': 1, u'ensnare': 1, u'return': 1, u'L.L.B.': 1, u'get': 4, u'rise': 1, u'watch': 1, u'bear': 1, u'geek': 1, u'game': 1, u'fan': 1, u'prof': 1, u'room': 2, u'earn': 9, u'scholar': 3, u'gift': 1, u'brain': 1, u'list': 1, u'leave': 1, u'officer': 1, u'team': 1, u'release': 2, u'found': 1, u'wonk': 1, u'B.A.': 1, u'attorney': 1, u'set': 2, u'dean': 4, u'deal': 1, u'eagle': 1, u'startup': 1, u'direct': 2, u'seat': 1, u'administrator': 1, u'cost': 1, u'design': 1, u'portfolio': 1, u'Jenkins': 1, u'operation': 1, u'dissertation': 1, u'educate': 4, u'Educated': 2, u'genetics': 1, u'attend': 11, u'lead': 1, u'matter': 1, u'profit': 1, u'endowment': 1, u'section': 3, u'please': 1, u'fellows': 1, u'spokesman': 1, u'health': 1, u'conduct': 1, u'study2': 1, u'anne': 1, u'donate': 2, u'issue': 1, u'body': 1, u'specialist': 1, u'School': 8, u'run': 1, u'degree': 1, u'host': 1, u'become': 1, u'dividend': 1, u'teach': 6, u'come': 1, u'official': 2, u'advance': 1, u'training': 1, u'Dean': 1, u'forum': 1, u'receive': 14, u'route': 1, u'year': 1, u'job': 1, u'graduation': 3, u'turn': 2, u'survey': 1, u'banker': 1, u'contribution': 1, u'honor': 1, u'dine': 1, u'hold': 1, u'student': 10, u'campaign': 1, u'researcher': 4, u'hometown': 1, u'end': 1, u'sign': 1, u'commitment': 1, u'administer': 1, u'guard': 1, u'right': 1, u'alumnus': 6, u'poll': 1, u'open': 2, u'research': 1, u'stage': 1, u'engineer': 1, u'idea': 1, u'management': 1, u'dump': 1, u'paint': 1, u'transform': 1, u'commission': 1, u'live': 2, u'master': 2, u'laude': 1, u'way': 1, u'Agraduate': 1, u'sociology/anthropology': 1, u'draft': 2, u'hundred': 1, u'meeting': 1, u'friend': 1, u'head': 2, u'offer': 1, u'serve': 1, u'hurt': 1, u'train': 1, u'emeritus': 2, u'subsidiary': 1, u'line': 1, u'copy': 1, u'bill': 1, u'case': 1, u'hire': 2, u'join': 2, u'look': 1, u'pursue': 1, u'science': 1, u'work': 4, u'recruit': 2, u'podcasts': 1, u'career': 2, u'economic': 1, u'architect': 1, u'learn': 1, u'guru': 1, u'meet': 3, u'piece': 1, u'study': 13, u'say': 1, u'Conference': 1, u'compare': 1, u'give': 2, u'recognize': 1, u'describe': 1, u'accept': 1, u'fellow': 1, u'relieve': 1, u'provost': 1, u'classis': 1, u'stint': 1, u'examine': 1, u'hone': 1, u'mathematic': 1, u'develop': 1, u'author': 1, u'pay': 1, u'perkovic?s': 1, u'cope': 1, u'administration': 1, u'graduate': 38, u'member': 2, u'take': 1, u'corridor': 2, u'draw': 1, u'practice': 1, u'star': 1, u'clash': 1, u'Institute': 3, u'absorb': 1, u'price': 1, u'welcome': 2, u'stay': 1, u'director': 4, u'letter': 1, u'faculty': 2, u'Ph.D.': 1, u'president': 3, u'grow': 1, u'expand': 1, u'operate': 1, u'expert': 2, u'professor': 44, u'applicant': 1, u'cover': 1, u'psychologist': 1, u'spend': 1, u'mislead': 1, u'academic': 1, u'part': 1, u'roommates': 1, u'classmate': 1, u'enter': 1, u'position': 1, u'artist-in-residence': 1, u'assistance': 1, u'scholarship': 2}), u'http://dbpedia.org/resource/Stanford_University': defaultdict(None, {u'help': 3, u'founder': 1, u'violation': 1, u'percent': 1, u'executive': 1, u'suspend': 1, u'course': 2, u'manager': 2, u'mile': 1, u'file': 1, u'jury': 1, u'touch': 1, u'follow': 1, u'flashback': 1, u'avenue': 1, u'secure': 1, u'topping': 1, u'alum': 2, u'conjunction': 1, u'police': 1, u'violate': 1, u'fit': 1, u'rootin': 1, u'pump': 1, u'send': 2, u'writing': 1, u'list': 1, u'charge': 1, u'program': 4, u'association': 1, u'stable': 1, u'policy': 1, u'humanity': 1, u'ally': 1, u'build': 1, u'colleague': 1, u'division': 2, u'Childress': 1, u'race': 2, u'hit': 1, u'get': 3, u'beat': 1, u'couple': 1, u'rise': 1, u'M.B.A.': 2, u'bear': 2, u'sweep': 1, u'break': 1, u'answer': 1, u'game': 3, u'fan': 1, u'donor': 1, u'implicate': 1, u'spur': 1, u'realize': 1, u'celebrate': 1, u'target': 1, u'hall': 1, u'earn': 7, u'bring': 1, u'level': 1, u'professorship': 1, u'remove': 1, u'leave': 1, u'garage': 1, u'benefit': 1, u'phds': 1, u'team': 11, u'release': 2, u'become': 3, u'grad': 1, u'secretary': 1, u'attorney': 1, u'work': 8, u'force': 1, u'series': 1, u'Hospital': 2, u'scientist': 2, u'seat': 1, u'see': 1, u'redress': 1, u'design': 3, u'co-director': 1, u'logo': 1, u'operation': 2, u'sport': 1, u'hamper': 1, u'biology': 1, u'regulator': 1, u'sue': 1, u'degree': 2, u'lead': 1, u'endowment': 1, u'rev': 1, u'investigate': 2, u'research': 2, u'woo': 2, u'investigation': 1, u'lawsuit': 1, u'select': 1, u'issue': 2, u'leader': 2, u'School': 3, u'run': 3, u'experiment': 1, u'parent': 1, u'driver': 1, u'lose': 2, u'modify': 2, u'volkswagen': 1, u'upgrade': 1, u'wear': 1, u'found': 1, u'put': 2, u'post': 1, u'come': 2, u'change': 2, u'manufacturer': 1, u'climate': 1, u'andcompleting': 1, u'receive': 8, u'residence': 1, u'study': 2, u'keep': 1, u'survey': 1, u'pick': 1, u'stadium': 1, u'programme': 1, u'travel': 1, u'block': 1, u'repair': 1, u'own': 2, u'student': 11, u'cancer': 1, u'researcher': 7, u'win': 2, u'meet': 1, u'manage': 2, u'continue': 1, u'commitment': 1, u'community': 1, u'son': 1, u'set': 1, u'alumnus': 6, u'obtain': 1, u'vote': 1, u'open': 2, u'teach': 3, u'landscape': 1, u'engineer': 2, u'management': 1, u'service': 2, u'addition': 1, u'transfer': 3, u'create': 2, u'swipe': 1, u'grow': 3, u'start': 1, u'live': 1, u'conservation': 1, u'call': 1, u'tune': 1, u'interest': 1, u'acre': 1, u'care': 1, u'store': 1, u'treatment': 1, u'sues': 1, u'head': 1, u'fellow': 2, u'Center': 3, u'offer': 2, u'acquire': 1, u'serve': 3, u'award': 2, u'direct': 1, u'downtown': 1, u'vouch': 1, u'construction': 1, u'gain': 1, u'emeritus': 1, u'hold': 5, u'behalf': 1, u'distribute': 1, u'loom': 1, u'join': 3, u'sit': 1, u'campus': 4, u'official': 3, u'bilk': 1, u'engineering': 2, u'project': 2, u'career': 1, u'oppose': 1, u'economic': 1, u'aid': 1, u'arrive': 2, u'root': 1, u'scramble': 1, u'control': 1, u'gathering': 1, u'camp': 1, u'supervisor': 1, u'have': 4, u'process': 1, u'recognize': 1, u'site': 1, u'accept': 1, u'affidavit': 1, u'return': 1, u'provost': 1, u'council': 1, u'home': 1, u'partner': 1, u'ship': 1, u'education': 1, u'technology': 1, u'check': 1, u'trustee': 1, u'sell': 1, u'floor': 1, u'provide': 4, u'suggest': 1, u'make': 4, u'excel': 1, u'MBA': 4, u'graduate': 16, u'member': 1, u'application': 1, u'summit': 1, u'take': 5, u'branch': 1, u'reject': 2, u'department': 2, u'place': 1, u'http://me.stanford.edu/groups/design/automotive/index.html]': 1, u'ensemble': 1, u'quarterback': 2, u'development': 3, u'play': 1, u'dismiss': 1, u'intend': 1, u'attend': 3, u'deploy': 3, u'time': 1, u'hang': 1, u'director': 12, u'drag': 1, u'plan': 1, u'letter': 1, u'faculty': 2, u'president': 3, u'prestige': 1, u'class': 1, u'physic': 1, u'expert': 1, u'professor': 40, u'gather': 1, u'cover': 1, u'sale': 1, u'academic': 1, u'contact': 2, u'pay': 4, u'dewatering': 1, u'position': 2, u'operate': 2, u'dream': 1, u'order': 1, u'scholarship': 1}), u'http://dbpedia.org/resource/University_of_Southern_California': defaultdict(None, {u'help': 2, u'office': 1, u'move': 1, u'obtain': 1, u'gun': 1, u'bring': 1, u'manager': 1, u'scientist': 3, u'gunman': 1, u'participate': 5, u'follow': 1, u'impact': 1, u'hold': 1, u'group': 1, u'recruit': 1, u'supply': 1, u'penalty': 1, u'program': 4, u'celebrate': 2, u'folks': 1, u'goalie': 1, u'build': 5, u'shoot': 1, u'assignment': 1, u'retire': 1, u'appointment': 1, u'get': 2, u'beat': 1, u'credit': 1, u'bear': 2, u'game': 2, u'therapy': 1, u'join': 1, u'association': 3, u'ceiling': 1, u'earn': 8, u'catcher': 1, u'name': 3, u'gift': 1, u'inventory': 1, u'shock': 1, u'borrow': 2, u'officer': 1, u'lose': 1, u'release': 1, u'grad': 2, u'consolidate': 2, u'set': 1, u'dean': 1, u'series': 1, u'shake': 2, u'direct': 1, u'seat': 1, u'design': 2, u'result': 1, u'operation': 2, u'subject': 1, u'lead': 2, u'establish': 1, u'defend': 1, u'spokesman': 1, u'opener': 1, u'quote': 1, u'donate': 5, u'strategist': 1, u'slaying': 1, u'locate': 2, u'School': 5, u'subholding': 1, u'University': 33, u'team': 6, u'reason': 1, u'put': 1, u'teach': 5, u'come': 3, u'change': 1, u'manufacturer': 1, u'convert': 1, u'career': 1, u'shift': 1, u'route': 1, u'turn': 1, u'range': 1, u'stand': 2, u'feed': 1, u'major': 3, u'letter': 1, u'revenue': 2, u'community': 2, u'replace': 1, u'renovate': 1, u'carry': 2, u'total': 1, u'open': 1, u'management': 1, u'service': 1, u'addition': 1, u'support': 1, u'system': 1, u'rusher': 1, u'attack': 1, u'tenant': 1, u'stadium': 1, u'analyze': 1, u'lease': 1, u'life': 1, u'offer': 1, u'fire': 2, u'acquire': 1, u'serve': 1, u'award': 1, u'cooperate': 1, u'policy': 1, u'construction': 2, u'review': 1, u'promote': 1, u'specify': 1, u'fan': 1, u'hire': 1, u'M.A.': 1, u'official': 3, u'teenager': 1, u'project': 1, u'receive': 4, u'Master': 1, u'study': 9, u'care': 2, u'give': 5, u'recognize': 1, u'describe': 1, u'influence': 1, u'head': 2, u'accept': 1, u'player': 1, u'have': 2, u'classis': 1, u'seem': 1, u'attract': 1, u'campus': 4, u'trustee': 1, u'sell': 1, u'memorial': 1, u'Return': 1, u'sit': 1, u'perform': 1, u'pay': 2, u'make': 4, u'wound': 1, u'MBA': 1, u'graduate': 8, u'emphasis': 1, u'take': 1, u'department': 1, u'play': 2, u'attend': 3, u'roster': 1, u'track': 1, u'Ph.D.': 2, u'reach': 1, u'director': 9, u'donation': 2, u'produce': 2, u'stipulate': 1, u'student': 5, u'president': 3, u'tradition': 1, u'scholar': 1, u'building': 1, u'attempt': 1, u'expert': 1, u'fund': 1, u'invest': 1, u'professor': 14, u'gather': 2, u'provide': 1, u'compete': 1, u'deans': 2, u'morten': 1, u'operate': 1, u'spend': 1, u'scholarship': 1}), u'http://dbpedia.org/resource/Auburn_University': defaultdict(None, {u'shop': 1, u'represent': 1, u'coach': 2, u'help': 1, u'resiliency': 1, u'skip': 1, u'slugger': 1, u'move': 2, u'terminate': 1, u'bring': 1, u'manager': 3, u'committee': 2, u'speed': 1, u'mayor': 1, u'staff': 1, u'impact': 1, u'cut': 1, u'gymnast': 1, u'rose': 1, u'refurbish': 1, u'employer': 1, u'program': 2, u'board': 2, u'win': 2, u'pride': 1, u'build': 1, u'dodge': 1, u'division': 1, u'retire': 1, u'return': 1, u'advantage': 1, u'get': 2, u'auto': 1, u'bear': 1, u'game': 3, u'fan': 7, u'fall': 2, u'discuss': 1, u'condition': 1, u're-elect': 1, u'earn': 4, u'donate': 1, u'name': 1, u'die': 1, u'debut': 1, u'leave': 3, u'book': 1, u'race': 1, u'victory': 2, u'team': 3, u'release': 1, u'drop': 1, u'side': 1, u'right': 1, u'parade': 1, u'house': 1, u'back': 1, u'seat': 4, u'jump': 1, u'intern': 1, u'cost': 1, u'escape': 1, u'home': 2, u'operation': 3, u'investment': 1, u'page': 1, u'lead': 1, u'confirm': 1, u'section': 2, u'exchange': 1, u'day': 1, u'encourage': 1, u'score': 2, u'cooperation': 1, u'extraordinaire': 1, u'hold': 3, u'native': 2, u'cause': 1, u'refer': 1, u'locate': 2, u'run': 2, u'degree': 2, u'quit': 1, u'component': 1, u'lose': 3, u'deliver': 2, u'bachelor': 1, u'voter': 1, u'recruiting': 1, u'struggle': 1, u'news': 1, u'post': 1, u'legend': 1, u'stage': 1, u'arena': 1, u'standout': 1, u'service': 2, u'veer': 1, u'auction': 1, u'study': 2, u'host': 1, u'officer': 1, u'turn': 1, u'range': 1, u'restoration': 1, u'place': 1, u'stand': 1, u'transfer': 1, u'Laboratory': 1, u'expense': 1, u'maker': 1, u'emerge': 2, u'elect': 1, u'campaign': 1, u'vie': 1, u'hometown': 1, u'community': 4, u'renovate': 1, u'set': 1, u'alumnus': 3, u'oaks': 1, u'mens': 1, u'open': 2, u'teach': 1, u'market': 1, u'transplant': 1, u'city': 1, u'residency': 2, u'Degree': 1, u'area': 1, u'Crooks': 1, u'create': 1, u'visit': 1, u'system': 1, u'grow': 2, u'player': 1, u'commission': 1, u'live': 1, u'master': 1, u'way': 1, u'survive': 1, u'percentage': 1, u'meeting': 1, u'los': 1, u'store': 1, u'location': 1, u'commissioner': 1, u'buy': 1, u'north': 1, u'relationship': 1, u'offer': 4, u'season': 3, u'government': 1, u'acquire': 1, u'worker': 1, u'direct': 1, u'part': 3, u'shortfall': 1, u'review': 1, u'line': 1, u'promote': 1, u'heighten': 1, u'town': 1, u'hire': 1, u'join': 1, u'coordinator': 1, u'nominate': 1, u'enrollment': 1, u'official': 2, u'Czarnecki': 1, u'project': 1, u'receive': 1, u'College': 1, u'budget': 2, u'highlight': 1, u'problem': 1, u'history': 1, u'give': 1, u'process': 2, u'partnership': 1, u'head': 1, u'headquarters': 1, u'middle': 1, u'say': 1, u'have': 2, u'work': 6, u'dealer': 1, u'worry': 1, u'trustee': 2, u'sell': 3, u'capture': 1, u'develop': 1, u'sit': 1, u'make': 2, u'relax': 1, u'percent': 1, u'amount': 1, u'graduate': 10, u'member': 1, u'other': 1, u'potential': 1, u'role': 1, u'take': 4, u'branch': 2, u'department': 4, u'fill': 1, u'quarterback': 1, u'economy': 1, u'play': 3, u'star': 1, u'attend': 1, u'expenditure': 1, u'serve': 3, u'class': 1, u'football': 1, u'driver': 1, u'stay': 1, u'director': 5, u'donation': 1, u'produce': 2, u'student': 3, u'president': 1, u'payment': 1, u'expand': 1, u'appoint': 3, u'purchase': 2, u'resident': 1, u'operate': 1, u'professor': 1, u'grant': 1, u'life': 1, u'drive': 2, u'honor': 1, u'swamp': 1, u'construction': 1, u'compete': 2, u'position': 5, u'senior': 1, u'reward': 1, u'spend': 2, u'waiver': 1, u'scholarship': 2}), u'http://dbpedia.org/resource/Purdue_University': defaultdict(None, {u'restore': 1, u'coach': 2, u'help': 4, u'represent': 1, u'move': 2, u'Graduate': 1, u'manager': 4, u'relation': 2, u'Department': 1, u'economist': 2, u'alum': 1, u'squeeze': 1, u'overhaul': 1, u'writer': 1, u'send': 1, u'program': 2, u'factor': 1, u'build': 2, u'collaborate': 2, u'return': 1, u'get': 2, u'beat': 1, u'couple': 1, u'band': 1, u'game': 2, u'earn': 4, u'name': 1, u'purdue': 1, u'yield': 1, u'race': 1, u'victory': 1, u'team': 5, u'release': 4, u'become': 1, u'page': 1, u'enjoy': 1, u'official': 1, u'quilt': 1, u'play': 3, u'seat': 1, u'administrator': 1, u'earns': 1, u'year': 1, u'home': 1, u'psychology': 1, u'expert': 1, u'publish': 1, u'research': 2, u'score': 1, u'cooperation': 1, u'issue': 4, u'School': 2, u'run': 1, u'degree': 1, u'attention': 2, u'host': 1, u'put': 3, u'come': 2, u'change': 2, u'majoring': 1, u'career': 1, u'study': 2, u'step': 1, u'graduation': 1, u'connection': 1, u'produce': 1, u'act': 1, u'commit': 1, u'honor': 2, u'block': 1, u'software': 2, u'trainer': 1, u'major': 2, u'commitment': 1, u'Board': 1, u'female': 2, u'total': 1, u'management': 1, u'deal': 1, u'area': 1, u'union': 1, u'transfer': 2, u'create': 1, u'firefighter': 1, u'analyze': 1, u'friend': 1, u'Center': 1, u'share': 1, u'acquire': 2, u'serve': 2, u'neighbour': 1, u'hold': 2, u'junior': 1, u'fly': 1, u'hundred': 1, u'join': 5, u'room': 1, u'Office': 1, u'bachelor': 1, u'work': 5, u'employ': 1, u'receive': 6, u'College': 2, u'behavior': 1, u'give': 1, u'recognize': 1, u'tournament': 1, u'influence': 1, u'site': 1, u'player': 3, u'engineering': 2, u'logo': 1, u'education': 1, u'campus': 3, u'rape': 1, u'sell': 1, u'Division': 1, u'strength': 1, u'develop': 3, u'sociologist': 1, u'pay': 1, u'make': 2, u'grantee': 1, u'fullback': 1, u'graduate': 23, u'role': 2, u'take': 4, u'department': 2, u'undrafted': 1, u'development': 2, u'draw': 2, u'attend': 4, u'roster': 1, u'customize': 1, u'assist': 1, u'director': 9, u'abuse': 1, u'student': 11, u'faculty': 3, u'freshman': 2, u'president': 5, u'network': 1, u'resemble': 1, u'professor': 14, u'upset': 1, u'classis': 1, u'model': 1}), u'http://dbpedia.org/resource/University_of_Michigan': defaultdict(None, {u'represent': 1, u'expert': 3, u'coach': 1, u'consider': 2, u'office': 5, u'move': 5, u'major': 1, u'top': 1, u'emeritus': 2, u'clinic': 1, u'scientist': 2, u'identify': 1, u'touch': 1, u'follow': 3, u'chair': 1, u'economist': 1, u'appreciation': 2, u'staff': 3, u'spokesman': 1, u'apartment': 1, u'violate': 1, u'uphold': 1, u'regent': 3, u'source': 1, u'program': 5, u'will': 1, u'enhance': 1, u'policy': 2, u'release': 8, u'include': 1, u'transformation': 1, u'build': 4, u'division': 1, u'collaborate': 1, u'return': 3, u'get': 5, u'beat': 1, u'assistant': 1, u'SCHOOL': 1, u'number': 2, u'liability': 1, u'department': 3, u'game': 6, u'endure': 2, u'decide': 1, u'govern': 1, u'ticket': 1, u'base': 2, u'recipient': 1, u'discuss': 3, u'loss': 1, u'earn': 13, u'establish': 2, u'name': 1, u'gift': 1, u'sophomore': 1, u'drop': 1, u'manager': 2, u'soloist': 1, u'continue': 1, u'phase': 1, u'team': 6, u'U-M': 1, u'become': 1, u'grad': 1, u'align': 1, u'spokeswoman': 2, u'set': 3, u'dean': 2, u'deal': 1, u'series': 1, u'Hospital': 1, u'product': 1, u'sign': 4, u'trick': 1, u'see': 2, u'band': 1, u'co-director': 2, u'home': 1, u'www.pharmacy.olemiss': 1, u'labour': 1, u'living': 1, u'sue': 2, u'lack': 1, u'lead': 2, u'space': 1, u'nonprofit': 1, u'defend': 2, u'publish': 1, u'research': 1, u'dormitory': 1, u'conduct': 5, u'hold': 4, u'donate': 2, u'issue': 10, u'method': 1, u'refer': 1, u'locate': 1, u'specialist': 1, u'School': 1, u'run': 1, u'degree': 2, u'associate': 1, u'marketing': 1, u'University': 59, u'back': 1, u'expansion': 1, u'specialise': 1, u'contemplate': 1, u'job': 1, u'leadership': 1, u're-ups': 1, u'wear': 3, u'http://www.umtri.umich.edu': 1, u'found': 1, u'dorm': 1, u'news': 1, u'teach': 4, u'bury': 1, u'oversee': 1, u'change': 1, u'care': 1, u'arena': 2, u'conducting': 1, u'daughter': 1, u'fit': 1, u'forum': 1, u'receive': 20, u'study': 17, u'put': 2, u'location': 1, u'keep': 2, u'spinoff': 1, u'turn': 1, u'tour': 1, u'ofeducation': 1, u'survey': 8, u'residency': 1, u'section': 1, u'distinction': 1, u'contribution': 1, u'argue': 1, u'think': 1, u'restrict': 1, u'come': 3, u'repair': 1, u'guide': 1, u'secure': 2, u'vie': 2, u'researcher': 12, u'relate': 1, u'commitment': 1, u'pop': 1, u'replace': 1, u'renovate': 2, u'freshman': 3, u'alumnus': 3, u'carry': 1, u'rezoning': 1, u'wentto': 1, u'poll': 2, u'undergraduate': 1, u'career': 2, u'management': 2, u'service': 3, u'area': 1, u'addition': 2, u'transfer': 1, u'create': 1, u'B.S.': 1, u'visit': 2, u'system': 2, u'construct': 2, u'class': 1, u'live': 1, u'master': 4, u'expand': 1, u'stadium': 1, u'call': 1, u'founder': 1, u'improve': 3, u'lease': 1, u'manufacture': 1, u'project': 1, u'head': 1, u'buy': 1, u'offer': 1, u'afford': 1, u'season': 3, u'serve': 3, u'bachelor': 2, u'satisfaction': 2, u'hurt': 1, u'broadcast': 1, u'employ': 1, u'construction': 3, u'gain': 2, u'helicopter': 1, u'nurse': 1, u'line': 1, u'seat': 1, u'kettering': 1, u'population': 1, u'hire': 2, u'analyze': 1, u'join': 6, u'Office': 1, u'coordinator': 2, u'pursue': 2, u'science': 1, u'ride': 1, u'official': 4, u'recruit': 2, u'work': 9, u'record': 1, u'direct': 2, u'masterclass': 1, u'following': 1, u'meet': 2, u'arrive': 1, u'endow': 1, u'average': 1, u'exhibit': 1, u'block': 1, u'compare': 1, u'give': 2, u'attribute': 1, u'sales': 1, u'deliver': 1, u'drive': 1, u'involve': 1, u'player': 4, u'engineering': 4, u'replica': 1, u'have': 4, u'accounting': 1, u'partner': 3, u'education': 1, u'campus': 4, u'sell': 2, u'mathematic': 1, u'arbor': 1, u'faithful': 1, u'doctor': 1, u'provide': 2, u'make': 2, u'administration': 3, u'graduate': 35, u'member': 1, u'field': 1, u'regents': 1, u'role': 3, u'take': 1, u'test': 1, u'composition': 1, u'banker': 1, u'play': 4, u'star': 1, u'attend': 9, u'hesitate': 1, u'track': 1, u'relation': 1, u'assist': 1, u'Miles': 1, u'stay': 3, u'director': 16, u'donation': 3, u'produce': 2, u'award': 2, u'student': 12, u'faculty': 3, u'vigil': 1, u'president': 3, u'renovation': 1, u'cardiologist': 1, u'appoint': 2, u'purchase': 1, u'salary': 1, u'unload': 1, u'invest': 2, u'professor': 41, u'gather': 2, u'cover': 1, u'sale': 3, u'analysis': 1, u'highlight': 2, u'switch': 2, u'edge': 1, u'responsibility': 1, u'jersey': 2, u'methadone': 1, u'position': 2, u'senior': 2, u'operate': 1, u'discussion': 1, u'representative': 1}), u'http://dbpedia.org/resource/Michigan_State_University': defaultdict(None, {u'authorize': 1, u'walking': 1, u'coach': 1, u'help': 2, u'athletic': 1, u'administration': 1, u'executive': 1, u'obtain': 1, u'utilize': 1, u'cheer': 1, u'manager': 3, u'scientist': 1, u'relation': 1, u'follow': 3, u'economist': 2, u'trouble': 1, u'staff': 1, u'move': 2, u'promote': 1, u'send': 1, u'charge': 1, u'program': 5, u'board': 3, u'combo': 1, u'policy': 1, u'announce': 1, u'build': 1, u'colleague': 1, u'relieve': 1, u'premium': 1, u'finance': 1, u'get': 5, u'assistant': 1, u'earn': 3, u'pathologist': 1, u'game': 6, u'fan': 6, u'opener': 1, u'ticket': 2, u'develope': 1, u'day': 1, u'scholar': 2, u'loss': 1, u'school': 1, u'donate': 1, u'resource': 1, u'name': 4, u'inventory': 1, u'trustee': 2, u'curator': 1, u'collect': 1, u'lose': 2, u'release': 3, u'grad': 3, u'luck': 1, u'draw': 1, u'exceed': 2, u'work': 3, u'force': 1, u'house': 1, u'reduce': 1, u'play': 6, u'economic': 2, u'usher': 1, u'measure': 1, u'co-director': 1, u'home': 1, u'operation': 1, u'envisions': 1, u'project': 1, u'retire': 1, u'lead': 6, u'space': 1, u'avoid': 1, u'experiment': 1, u'cooperation': 1, u'conduct': 1, u'Accepted': 1, u'issue': 3, u'journal': 1, u'specialist': 1, u'School': 4, u'associate': 2, u'marketing': 1, u'screen': 1, u'team': 1, u'expansion': 1, u'contribution': 1, u'fun': 1, u'restructuring': 1, u'management': 2, u'let': 1, u'put': 1, u'news': 1, u'teach': 2, u'come': 1, u'enrol': 1, u'change': 1, u'improve': 1, u'advance': 1, u'receive': 7, u'study': 9, u'job': 1, u'graduation': 1, u'keep': 1, u'turn': 1, u'connection': 1, u'leadership': 1, u'defeat': 1, u'commit': 1, u'concession': 1, u'replacement': 1, u'trainer': 1, u'major': 1, u'shopper': 1, u'vie': 1, u'win': 2, u'faculty': 1, u'period': 1, u'walk': 1, u'champ': 1, u'alumnus': 2, u'instal': 1, u'establish': 1, u'engineer': 1, u'take': 1, u'basketball': 1, u'raise': 1, u'Degree': 1, u'addition': 1, u'transfer': 1, u'create': 4, u'breed': 1, u'consider': 1, u'master': 1, u'way': 1, u'memory': 1, u'stage': 1, u'Women': 1, u'head': 1, u'enable': 1, u'relationship': 1, u'offer': 3, u'season': 1, u'musician': 2, u'serve': 3, u'landing': 1, u'part': 1, u'link': 1, u'mail': 1, u'http://www.prnewswire.com': 1, u'hold': 2, u'account': 1, u'join': 2, u'room': 2, u'coordinator': 2, u'recall': 1, u'official': 2, u'recruit': 2, u'distract': 1, u'Professors': 1, u'career': 1, u'while': 1, u'College': 1, u'visit': 1, u'briefing': 1, u'aid': 1, u'designate': 1, u'history': 1, u'director-logistics': 1, u'give': 1, u'resident': 1, u'partnership': 1, u'headquarters': 1, u'player': 2, u'collaborate': 1, u'have': 1, u'return': 1, u'sneak': 1, u'pit': 1, u'campus': 2, u'native': 1, u'sell': 2, u'develop': 1, u'personnel': 1, u'travel': 1, u'shorten': 1, u'feature': 1, u'graduate': 23, u'member': 3, u'dean': 1, u'complex': 1, u'chairman': 1, u'department': 1, u'performance': 1, u'fill': 1, u'week': 1, u'administrator': 3, u'acquire': 1, u'star': 2, u'attend': 5, u'Institute': 2, u'collaboration': 1, u'chart': 1, u'stay': 1, u'director': 19, u'award': 2, u'student': 6, u'retain': 1, u'score': 1, u'tradition': 2, u'expand': 1, u'building': 2, u'lawn': 1, u'band': 1, u'professor': 12, u'sale': 1, u'switch': 2, u'contact': 1, u'enter': 1, u'hear': 1, u'artist-in-residence': 1, u'spend': 3, u'womensbasketball': 1})}\n"
       ]
      }
     ],
     "prompt_number": 54
    },
    {
     "cell_type": "markdown",
     "metadata": {},
     "source": [
      "# Plot the above data for each university\n",
      "* Scroll down in the output area to see the graphs"
     ]
    },
    {
     "cell_type": "code",
     "collapsed": false,
     "input": [
      "\n",
      "for ab in actorToLabels:\n",
      "    columns = actorToLabels[ab].keys()\n",
      "    row = []\n",
      "    names = []\n",
      "    for x in columns:\n",
      "        row.append(actorToLabels[ab][x])\n",
      "\n",
      "    d = {ab[28:] : row}\n",
      "    df2 = pd.DataFrame(d, index=columns)\n",
      "    s = df2.sort(ab[28:], ascending=False)\n",
      "    df2.plot(kind='area')\n",
      "    #print s[ab[28:]][:5]\n",
      "    "
     ],
     "language": "python",
     "metadata": {},
     "outputs": [
      {
       "output_type": "stream",
       "stream": "stdout",
       "text": [
        "Board       110\n",
        "member       41\n",
        "seat         30\n",
        "elect        14\n",
        "Chairman     13\n",
        "Name: Texas_Tech_University_System, dtype: int64\n",
        "graduate     20\n",
        "director     18\n",
        "student      12\n",
        "president    12\n",
        "game         10\n",
        "Name: Pennsylvania_State_University, dtype: int64"
       ]
      },
      {
       "output_type": "stream",
       "stream": "stdout",
       "text": [
        "\n",
        "professor    44\n",
        "graduate     38\n",
        "receive      14\n",
        "study        13\n",
        "attend       11\n",
        "Name: Harvard_University, dtype: int64"
       ]
      },
      {
       "output_type": "stream",
       "stream": "stdout",
       "text": [
        "\n",
        "professor    40\n",
        "graduate     16\n",
        "director     12\n",
        "team         11\n",
        "student      11\n",
        "Name: Stanford_University, dtype: int64"
       ]
      },
      {
       "output_type": "stream",
       "stream": "stdout",
       "text": [
        "\n",
        "University    33\n",
        "professor     14\n",
        "study          9\n",
        "director       9\n",
        "graduate       8\n",
        "Name: University_of_Southern_California, dtype: int64"
       ]
      },
      {
       "output_type": "stream",
       "stream": "stdout",
       "text": [
        "\n",
        "graduate    10\n",
        "fan          7\n",
        "work         6\n",
        "director     5\n",
        "position     5\n",
        "Name: Auburn_University, dtype: int64"
       ]
      },
      {
       "output_type": "stream",
       "stream": "stdout",
       "text": [
        "\n",
        "graduate     23\n",
        "professor    14\n",
        "student      11\n",
        "director      9\n",
        "receive       6\n",
        "Name: Purdue_University, dtype: int64"
       ]
      },
      {
       "output_type": "stream",
       "stream": "stdout",
       "text": [
        "\n",
        "University    59\n",
        "professor     41\n",
        "graduate      35\n",
        "receive       20\n",
        "study         17\n",
        "Name: University_of_Michigan, dtype: int64"
       ]
      },
      {
       "output_type": "stream",
       "stream": "stdout",
       "text": [
        "\n",
        "graduate     23\n",
        "director     19\n",
        "professor    12\n",
        "study         9\n",
        "receive       7\n",
        "Name: Michigan_State_University, dtype: int64"
       ]
      },
      {
       "output_type": "stream",
       "stream": "stdout",
       "text": [
        "\n"
       ]
      },
      {
       "metadata": {},
       "output_type": "display_data",
       "png": "[encoded data removed]",
       "text": [
        "<matplotlib.figure.Figure at 0x109c97750>"
       ]
      },
      {
       "metadata": {},
       "output_type": "display_data",
       "png": "[encoded data removed]",
       "text": [
        "<matplotlib.figure.Figure at 0x10a2dbad0>"
       ]
      },
      {
       "metadata": {},
       "output_type": "display_data",
       "png": "[encoded data removed]",
       "text": [
        "<matplotlib.figure.Figure at 0x1099fa110>"
       ]
      },
      {
       "metadata": {},
       "output_type": "display_data",
       "png": "[encoded data removed]",
       "text": [
        "<matplotlib.figure.Figure at 0x10a2e6290>"
       ]
      },
      {
       "metadata": {},
       "output_type": "display_data",
       "png": "[encoded data removed]",
       "text": [
        "<matplotlib.figure.Figure at 0x109c8de10>"
       ]
      },
      {
       "metadata": {},
       "output_type": "display_data",
       "png": "[encoded data removed]",
       "text": [
        "<matplotlib.figure.Figure at 0x10a2bda90>"
       ]
      },
      {
       "metadata": {},
       "output_type": "display_data",
       "png": "[encoded data removed]",
       "text": [
        "<matplotlib.figure.Figure at 0x10a2a7590>"
       ]
      },
      {
       "metadata": {},
       "output_type": "display_data",
       "png": "[encoded data removed]",
       "text": [
        "<matplotlib.figure.Figure at 0x109c8d5d0>"
       ]
      },
      {
       "metadata": {},
       "output_type": "display_data",
       "png": "[encoded data removed]",
       "text": [
        "<matplotlib.figure.Figure at 0x108a686d0>"
       ]
      }
     ],
     "prompt_number": 114
    },
    {
     "cell_type": "code",
     "collapsed": false,
     "input": [],
     "language": "python",
     "metadata": {},
     "outputs": []
    }
   ],
   "metadata": {}
  }
 ]
}