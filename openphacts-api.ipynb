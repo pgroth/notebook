{
 "metadata": {
  "name": ""
 },
 "nbformat": 3,
 "nbformat_minor": 0,
 "worksheets": [
  {
   "cells": [
    {
     "cell_type": "markdown",
     "metadata": {},
     "source": [
      "Using the Open PHACTS API with Python\n",
      "-------------------------------------\n",
      "\n",
      "Prerequisities:\n",
      "\n",
      "* Register and get an application id and app key at http://dev.openphacts.org\n",
      "* I list the app_key and app_id here for an example. Please don't abuse it. :-)\n",
      "\n",
      "Wrapper functions for the Open PHACTS API"
     ]
    },
    {
     "cell_type": "code",
     "collapsed": false,
     "input": [
      "import json\n",
      "import urllib2\n",
      "from IPython import display\n",
      "from pprint import pprint\n",
      "\n",
      "app_id = \"0e939a76\"\n",
      "app_key = \"1004d9ef5f4ee1ab0bbfc02b623cb955\"\n",
      "\n",
      "def getOPSUrlForString(qStr):\n",
      "    results = json.load(urllib2.urlopen(\"https://beta.openphacts.org/search/freetext?app_id=\" + app_id + \"&app_key=\" + app_key + \"&q=\"+ qStr + \"&_format=json\"))\n",
      "    res = results['result']['primaryTopic']['result'][0]['_about']\n",
      "    return res\n",
      "\n",
      "def getCompoundInformation(uri):\n",
      "    results = json.load(urllib2.urlopen(\"https://beta.openphacts.org/compound?app_id=\" + app_id + \"&app_key=\" + app_key + \"&uri=\"+ uri + \"&_format=json\"))\n",
      "    res = results['result']['primaryTopic']\n",
      "    return res\n",
      "\n",
      "def getCompoundImage(compoundInfo):\n",
      "    for em in compoundInfo['exactMatch']:\n",
      "        if type(em) == dict:\n",
      "           if em['inDataset'] == \"http://www.chemspider.com\":\n",
      "                csid = em['_about'].lstrip(\"http://rdf.chemspider.com/\")\n",
      "                return display.Image(url='http://www.chemspider.com/ImagesHandler.ashx?id='+csid)"
     ],
     "language": "python",
     "metadata": {},
     "outputs": [],
     "prompt_number": 6
    },
    {
     "cell_type": "markdown",
     "metadata": {},
     "source": [
      "Example Usage: Getting a picture of Sorafenib"
     ]
    },
    {
     "cell_type": "code",
     "collapsed": false,
     "input": [
      "uri = getOPSUrlForString('sorafenib')\n",
      "res = getCompoundInformation(uri)\n",
      "getCompoundImage(res)"
     ],
     "language": "python",
     "metadata": {},
     "outputs": [
      {
       "html": [
        "<img src=\"http://www.chemspider.com/ImagesHandler.ashx?id=187440\"/>"
       ],
       "metadata": {},
       "output_type": "pyout",
       "prompt_number": 7,
       "text": [
        "<IPython.core.display.Image at 0x107c5ae90>"
       ]
      }
     ],
     "prompt_number": 7
    },
    {
     "cell_type": "markdown",
     "metadata": {},
     "source": [
      "Example Usage: Just output the json we get back from getCompoundInformation()"
     ]
    },
    {
     "cell_type": "code",
     "collapsed": false,
     "input": [
      "res"
     ],
     "language": "python",
     "metadata": {},
     "outputs": [
      {
       "metadata": {},
       "output_type": "pyout",
       "prompt_number": 8,
       "text": [
        "{u'_about': u'http://www.conceptwiki.org/concept/38932552-111f-4a4e-a46a-4ed1d7bdf9d5',\n",
        " u'exactMatch': [u'http://www.conceptwiki.org/concept/38932552-111f-4a4e-a46a-4ed1d7bdf9d5',\n",
        "  {u'_about': u'http://data.kasabi.com/dataset/chembl-rdf/chemblid/CHEMBL1336',\n",
        "   u'full_mwt': 464.825,\n",
        "   u'inDataset': u'http://data.kasabi.com/dataset/chembl-rdf',\n",
        "   u'molform': u'C21H16ClF3N4O3',\n",
        "   u'mw_freebase': 464.825,\n",
        "   u'rtb': 6},\n",
        "  {u'_about': u'http://rdf.chemspider.com/187440',\n",
        "   u'hba': 7,\n",
        "   u'hbd': 3,\n",
        "   u'inDataset': u'http://www.chemspider.com',\n",
        "   u'inchi': u'InChI=1S/C21H16ClF3N4O3/c1-26-19(30)18-11-15(8-9-27-18)32-14-5-2-12(3-6-14)28-20(31)29-13-4-7-17(22)16(10-13)21(23,24)25/h2-11H,1H3,(H,26,30)(H2,28,29,31)',\n",
        "   u'inchikey': u'MLDQJTXFUGDVEO-UHFFFAOYSA-N',\n",
        "   u'logp': 4.818,\n",
        "   u'psa': 9.235e-18,\n",
        "   u'ro5_violations': 0,\n",
        "   u'smiles': u'CNC(=O)c1cc(ccn1)Oc2ccc(cc2)NC(=O)Nc3ccc(c(c3)C(F)(F)F)Cl'},\n",
        "  {u'_about': u'http://www4.wiwiss.fu-berlin.de/drugbank/resource/drugs/DB00398',\n",
        "   u'biotransformation': u'Sorafenib is metabolized primarily in the liver, undergoing oxidative metabolism, mediated by CYP3A4, as well as glucuronidation mediated by UGT1A9. Sorafenib accounts for approximately 70-85% of the circulating analytes in plasma at steady- state. Eight metabolites of sorafenib have been identified, of which five have been detected in plasma. The main circulating metabolite of sorafenib in plasma, the pyridine N-oxide, shows <i>in vitro</i> potency similar to that of sorafenib. This metabolite comprises approximately 9-16% of circulating analytes at steady-state.',\n",
        "   u'description': u'Sorafenib (rINN), marketed as Nexavar by Bayer, is a drug approved for the treatment of advanced renal cell carcinoma (primary kidney cancer). It has also received \"Fast Track\" designation by the FDA for the treatment of advanced hepatocellular carcinoma (primary liver cancer), and has since performed well in Phase III trials.\\nSorafenib is a small molecular inhibitor of Raf kinase, PDGF (platelet-derived growth factor), VEGF receptor 2 & 3 kinases and c Kit the receptor for Stem cell factor. A growing number of drugs target most of these pathways. The originality of Sorafenib lays in its simultaneous targeting of the Raf/Mek/Erk pathway.',\n",
        "   u'inDataset': u'http://linkedlifedata.com/resource/drugbank',\n",
        "   u'proteinBinding': u'99.5%',\n",
        "   u'toxicity': u'The highest dose of sorafenib studied clinically is 800 mg twice daily. The adverse reactions observed at this dose were primarily diarrhea and dermatologic events. No information is available on symptoms of acute overdose in animals because of the saturation of absorption in oral acute toxicity studies conducted in animals.'}],\n",
        " u'inDataset': u'http://www.conceptwiki.org',\n",
        " u'isPrimaryTopicOf': u'https://beta.openphacts.org/compound?_format=json&uri=http%3A%2F%2Fwww.conceptwiki.org%2Fconcept%2F38932552-111f-4a4e-a46a-4ed1d7bdf9d5&app_id=a409dcc9&app_key=ad4fca9111f258325e3ca50e7217dcbc',\n",
        " u'prefLabel': u'Sorafenib',\n",
        " u'prefLabel_en': u'Sorafenib'}"
       ]
      }
     ],
     "prompt_number": 8
    }
   ],
   "metadata": {}
  }
 ]
}