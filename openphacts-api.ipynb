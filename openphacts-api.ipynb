{
 "metadata": {
  "name": ""
 },
 "nbformat": 3,
 "nbformat_minor": 0,
 "worksheets": [
  {
   "cells": [
    {
     "cell_type": "markdown",
     "metadata": {},
     "source": [
      "Using the Open PHACTS API with Python\n",
      "-------------------------------------\n",
      "\n",
      "Prerequisities:\n",
      "\n",
      "* Register and get an application id and app key at http://dev.openphacts.org\n",
      "* I list the app_key and app_id here for an example. Please don't abuse it. :-)\n",
      "\n",
      "Wrapper functions for the Open PHACTS API"
     ]
    },
    {
     "cell_type": "code",
     "collapsed": false,
     "input": [
      "import json\n",
      "import urllib2\n",
      "from IPython import display\n",
      "from pprint import pprint\n",
      "\n",
      "app_id = \"0e939a76\"\n",
      "app_key = \"1004d9ef5f4ee1ab0bbfc02b623cb955\"\n",
      "\n",
      "def getOPSUrlForString(qStr):\n",
      "    results = json.load(urllib2.urlopen(\"https://beta.openphacts.org/search/freetext?app_id=\" + app_id + \"&app_key=\" + app_key + \"&q=\"+ qStr + \"&_format=json\"))\n",
      "    res = results['result']['primaryTopic']['result'][0]['_about']\n",
      "    return res\n",
      "\n",
      "def getCompoundInformation(uri):\n",
      "    results = json.load(urllib2.urlopen(\"https://beta.openphacts.org/compound?app_id=\" + app_id + \"&app_key=\" + app_key + \"&uri=\"+ uri + \"&_format=json\"))\n",
      "    res = results['result']['primaryTopic']\n",
      "    return res\n",
      "\n",
      "def getCompoundImage(compoundInfo):\n",
      "    for em in compoundInfo['exactMatch']:\n",
      "        if type(em) == dict:\n",
      "           if em['inDataset'] == \"http://www.chemspider.com\":\n",
      "                csid = em['_about'].lstrip(\"http://rdf.chemspider.com/\")\n",
      "                return display.Image(url='http://www.chemspider.com/ImagesHandler.ashx?id='+csid)"
     ],
     "language": "python",
     "metadata": {},
     "outputs": [],
     "prompt_number": 2
    },
    {
     "cell_type": "markdown",
     "metadata": {},
     "source": [
      "Example Usage: Getting a picture of Sorafenib"
     ]
    },
    {
     "cell_type": "code",
     "collapsed": false,
     "input": [
      "uri = getOPSUrlForString('sorafenib')\n",
      "res = getCompoundInformation(uri)\n",
      "getCompoundImage(res)"
     ],
     "language": "python",
     "metadata": {},
     "outputs": [
      {
       "html": [
        "<img src=\"http://www.chemspider.com/ImagesHandler.ashx?id=187440\"/>"
       ],
       "metadata": {},
       "output_type": "pyout",
       "prompt_number": 3,
       "text": [
        "<IPython.core.display.Image at 0x107fef510>"
       ]
      }
     ],
     "prompt_number": 3
    },
    {
     "cell_type": "code",
     "collapsed": false,
     "input": [],
     "language": "python",
     "metadata": {},
     "outputs": []
    }
   ],
   "metadata": {}
  }
 ]
}